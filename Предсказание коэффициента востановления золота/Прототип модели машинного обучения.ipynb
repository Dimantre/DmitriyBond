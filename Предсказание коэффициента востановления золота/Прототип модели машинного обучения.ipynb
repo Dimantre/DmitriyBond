{
 "cells": [
  {
   "cell_type": "markdown",
   "metadata": {},
   "source": [
    "# Описание проекта\n",
    "\n",
    "**Задача:** подготовить прототип модели машинного обучения для компании, которая разрабатывает решения для эффективной работы промышленных предприятий.\n",
    "\n",
    "Модель должна предсказать коэффициент восстановления золота из золотосодержащей руды. В вашем распоряжении данные с параметрами добычи и очистки. \n",
    "\n",
    "Модель поможет оптимизировать производство, чтобы не запускать предприятие с убыточными характеристиками.\n",
    "\n",
    "Необходимо:\n",
    "\n",
    "1. Подготовить данные;\n",
    "2. Провести исследовательский анализ данных;\n",
    "3. Построить и обучить модель."
   ]
  },
  {
   "cell_type": "markdown",
   "metadata": {},
   "source": [
    "**Описание данных** \n",
    "\n",
    "**Технологический процесс**\n",
    "* Rougher feed — исходное сырье\n",
    "* Rougher additions (или reagent additions) — флотационные реагенты: Xanthate, Sulphate, Depressant\n",
    "* Xanthate **— ксантогенат (промотер, или активатор флотации);\n",
    "* Sulphate — сульфат (на данном производстве сульфид натрия);\n",
    "* Depressant — депрессант (силикат натрия).\n",
    "* Rougher process (англ. «грубый процесс») — флотация\n",
    "* Rougher tails — отвальные хвосты\n",
    "* Float banks — флотационная установка\n",
    "* Cleaner process — очистка\n",
    "* Rougher Au — черновой концентрат золота\n",
    "* Final Au — финальный концентрат золота\n",
    "\n",
    "**Параметры этапов**\n",
    "\n",
    "* air amount — объём воздуха\n",
    "* fluid levels — уровень жидкости\n",
    "* feed size — размер гранул сырья\n",
    "* feed rate — скорость подачи\n",
    "\n",
    "**Наименование признаков**\n",
    "\n",
    "Наименование признаков должно быть такое:\n",
    "[этап].[тип_параметра].[название_параметра]\n",
    "Пример: rougher.input.feed_ag\n",
    "Возможные значения для блока [этап]:\n",
    "\n",
    "* rougher — флотация\n",
    "* primary_cleaner — первичная очистка\n",
    "* secondary_cleaner — вторичная очистка\n",
    "* final — финальные характеристики\n",
    "\n",
    "**Возможные значения для блока [тип_параметра]:**\n",
    "\n",
    "* input — параметры сырья\n",
    "* output — параметры продукта\n",
    "* state — параметры, характеризующие текущее состояние этапа\n",
    "* calculation — расчётные характеристики\n"
   ]
  },
  {
   "cell_type": "markdown",
   "metadata": {},
   "source": [
    "# 1. Подготовка данных"
   ]
  },
  {
   "cell_type": "code",
   "execution_count": 1,
   "metadata": {},
   "outputs": [],
   "source": [
    "import pandas as pd\n",
    "import random\n",
    "import warnings\n",
    "import numpy as np\n",
    "import seaborn as sns\n",
    "warnings.filterwarnings(\"ignore\")\n",
    "import matplotlib.pyplot as plt\n",
    "from sklearn.linear_model import LogisticRegression\n",
    "from sklearn.model_selection import train_test_split\n",
    "from sklearn.model_selection import cross_val_score\n",
    "from sklearn.metrics import accuracy_score\n",
    "from sklearn.preprocessing import OrdinalEncoder\n",
    "from sklearn.metrics import accuracy_score\n",
    "from sklearn.metrics import f1_score\n",
    "from sklearn.utils import shuffle\n",
    "from sklearn.metrics import roc_auc_score\n",
    "from sklearn.metrics import roc_curve\n",
    "from sklearn.metrics import make_scorer\n",
    "from sklearn.metrics import mean_squared_error, mean_absolute_error\n",
    "from sklearn.preprocessing import StandardScaler\n",
    "from sklearn.linear_model import LinearRegression\n",
    "from sklearn.ensemble import RandomForestRegressor\n",
    "from sklearn.tree import DecisionTreeRegressor\n"
   ]
  },
  {
   "cell_type": "markdown",
   "metadata": {},
   "source": [
    "* **1.1. Открываем файлы и изучаем их**"
   ]
  },
  {
   "cell_type": "code",
   "execution_count": 2,
   "metadata": {},
   "outputs": [],
   "source": [
    "train = pd.read_csv('/datasets/gold_recovery_train.csv')\n",
    "test = pd.read_csv('/datasets/gold_recovery_test.csv')\n",
    "data = pd.read_csv('/datasets/gold_recovery_full.csv')"
   ]
  },
  {
   "cell_type": "code",
   "execution_count": 3,
   "metadata": {},
   "outputs": [],
   "source": [
    "def data_info(data):\n",
    "    data.info()"
   ]
  },
  {
   "cell_type": "code",
   "execution_count": 4,
   "metadata": {},
   "outputs": [
    {
     "name": "stdout",
     "output_type": "stream",
     "text": [
      "<class 'pandas.core.frame.DataFrame'>\n",
      "RangeIndex: 16860 entries, 0 to 16859\n",
      "Data columns (total 87 columns):\n",
      "date                                                  16860 non-null object\n",
      "final.output.concentrate_ag                           16788 non-null float64\n",
      "final.output.concentrate_pb                           16788 non-null float64\n",
      "final.output.concentrate_sol                          16490 non-null float64\n",
      "final.output.concentrate_au                           16789 non-null float64\n",
      "final.output.recovery                                 15339 non-null float64\n",
      "final.output.tail_ag                                  16794 non-null float64\n",
      "final.output.tail_pb                                  16677 non-null float64\n",
      "final.output.tail_sol                                 16715 non-null float64\n",
      "final.output.tail_au                                  16794 non-null float64\n",
      "primary_cleaner.input.sulfate                         15553 non-null float64\n",
      "primary_cleaner.input.depressant                      15598 non-null float64\n",
      "primary_cleaner.input.feed_size                       16860 non-null float64\n",
      "primary_cleaner.input.xanthate                        15875 non-null float64\n",
      "primary_cleaner.output.concentrate_ag                 16778 non-null float64\n",
      "primary_cleaner.output.concentrate_pb                 16502 non-null float64\n",
      "primary_cleaner.output.concentrate_sol                16224 non-null float64\n",
      "primary_cleaner.output.concentrate_au                 16778 non-null float64\n",
      "primary_cleaner.output.tail_ag                        16777 non-null float64\n",
      "primary_cleaner.output.tail_pb                        16761 non-null float64\n",
      "primary_cleaner.output.tail_sol                       16579 non-null float64\n",
      "primary_cleaner.output.tail_au                        16777 non-null float64\n",
      "primary_cleaner.state.floatbank8_a_air                16820 non-null float64\n",
      "primary_cleaner.state.floatbank8_a_level              16827 non-null float64\n",
      "primary_cleaner.state.floatbank8_b_air                16820 non-null float64\n",
      "primary_cleaner.state.floatbank8_b_level              16833 non-null float64\n",
      "primary_cleaner.state.floatbank8_c_air                16822 non-null float64\n",
      "primary_cleaner.state.floatbank8_c_level              16833 non-null float64\n",
      "primary_cleaner.state.floatbank8_d_air                16821 non-null float64\n",
      "primary_cleaner.state.floatbank8_d_level              16833 non-null float64\n",
      "rougher.calculation.sulfate_to_au_concentrate         16833 non-null float64\n",
      "rougher.calculation.floatbank10_sulfate_to_au_feed    16833 non-null float64\n",
      "rougher.calculation.floatbank11_sulfate_to_au_feed    16833 non-null float64\n",
      "rougher.calculation.au_pb_ratio                       15618 non-null float64\n",
      "rougher.input.feed_ag                                 16778 non-null float64\n",
      "rougher.input.feed_pb                                 16632 non-null float64\n",
      "rougher.input.feed_rate                               16347 non-null float64\n",
      "rougher.input.feed_size                               16443 non-null float64\n",
      "rougher.input.feed_sol                                16568 non-null float64\n",
      "rougher.input.feed_au                                 16777 non-null float64\n",
      "rougher.input.floatbank10_sulfate                     15816 non-null float64\n",
      "rougher.input.floatbank10_xanthate                    16514 non-null float64\n",
      "rougher.input.floatbank11_sulfate                     16237 non-null float64\n",
      "rougher.input.floatbank11_xanthate                    14956 non-null float64\n",
      "rougher.output.concentrate_ag                         16778 non-null float64\n",
      "rougher.output.concentrate_pb                         16778 non-null float64\n",
      "rougher.output.concentrate_sol                        16698 non-null float64\n",
      "rougher.output.concentrate_au                         16778 non-null float64\n",
      "rougher.output.recovery                               14287 non-null float64\n",
      "rougher.output.tail_ag                                14610 non-null float64\n",
      "rougher.output.tail_pb                                16778 non-null float64\n",
      "rougher.output.tail_sol                               14611 non-null float64\n",
      "rougher.output.tail_au                                14611 non-null float64\n",
      "rougher.state.floatbank10_a_air                       16807 non-null float64\n",
      "rougher.state.floatbank10_a_level                     16807 non-null float64\n",
      "rougher.state.floatbank10_b_air                       16807 non-null float64\n",
      "rougher.state.floatbank10_b_level                     16807 non-null float64\n",
      "rougher.state.floatbank10_c_air                       16807 non-null float64\n",
      "rougher.state.floatbank10_c_level                     16814 non-null float64\n",
      "rougher.state.floatbank10_d_air                       16802 non-null float64\n",
      "rougher.state.floatbank10_d_level                     16809 non-null float64\n",
      "rougher.state.floatbank10_e_air                       16257 non-null float64\n",
      "rougher.state.floatbank10_e_level                     16809 non-null float64\n",
      "rougher.state.floatbank10_f_air                       16802 non-null float64\n",
      "rougher.state.floatbank10_f_level                     16802 non-null float64\n",
      "secondary_cleaner.output.tail_ag                      16776 non-null float64\n",
      "secondary_cleaner.output.tail_pb                      16764 non-null float64\n",
      "secondary_cleaner.output.tail_sol                     14874 non-null float64\n",
      "secondary_cleaner.output.tail_au                      16778 non-null float64\n",
      "secondary_cleaner.state.floatbank2_a_air              16497 non-null float64\n",
      "secondary_cleaner.state.floatbank2_a_level            16751 non-null float64\n",
      "secondary_cleaner.state.floatbank2_b_air              16705 non-null float64\n",
      "secondary_cleaner.state.floatbank2_b_level            16748 non-null float64\n",
      "secondary_cleaner.state.floatbank3_a_air              16763 non-null float64\n",
      "secondary_cleaner.state.floatbank3_a_level            16747 non-null float64\n",
      "secondary_cleaner.state.floatbank3_b_air              16752 non-null float64\n",
      "secondary_cleaner.state.floatbank3_b_level            16750 non-null float64\n",
      "secondary_cleaner.state.floatbank4_a_air              16731 non-null float64\n",
      "secondary_cleaner.state.floatbank4_a_level            16747 non-null float64\n",
      "secondary_cleaner.state.floatbank4_b_air              16768 non-null float64\n",
      "secondary_cleaner.state.floatbank4_b_level            16767 non-null float64\n",
      "secondary_cleaner.state.floatbank5_a_air              16775 non-null float64\n",
      "secondary_cleaner.state.floatbank5_a_level            16775 non-null float64\n",
      "secondary_cleaner.state.floatbank5_b_air              16775 non-null float64\n",
      "secondary_cleaner.state.floatbank5_b_level            16776 non-null float64\n",
      "secondary_cleaner.state.floatbank6_a_air              16757 non-null float64\n",
      "secondary_cleaner.state.floatbank6_a_level            16775 non-null float64\n",
      "dtypes: float64(86), object(1)\n",
      "memory usage: 11.2+ MB\n",
      "<class 'pandas.core.frame.DataFrame'>\n",
      "RangeIndex: 5856 entries, 0 to 5855\n",
      "Data columns (total 53 columns):\n",
      "date                                          5856 non-null object\n",
      "primary_cleaner.input.sulfate                 5554 non-null float64\n",
      "primary_cleaner.input.depressant              5572 non-null float64\n",
      "primary_cleaner.input.feed_size               5856 non-null float64\n",
      "primary_cleaner.input.xanthate                5690 non-null float64\n",
      "primary_cleaner.state.floatbank8_a_air        5840 non-null float64\n",
      "primary_cleaner.state.floatbank8_a_level      5840 non-null float64\n",
      "primary_cleaner.state.floatbank8_b_air        5840 non-null float64\n",
      "primary_cleaner.state.floatbank8_b_level      5840 non-null float64\n",
      "primary_cleaner.state.floatbank8_c_air        5840 non-null float64\n",
      "primary_cleaner.state.floatbank8_c_level      5840 non-null float64\n",
      "primary_cleaner.state.floatbank8_d_air        5840 non-null float64\n",
      "primary_cleaner.state.floatbank8_d_level      5840 non-null float64\n",
      "rougher.input.feed_ag                         5840 non-null float64\n",
      "rougher.input.feed_pb                         5840 non-null float64\n",
      "rougher.input.feed_rate                       5816 non-null float64\n",
      "rougher.input.feed_size                       5834 non-null float64\n",
      "rougher.input.feed_sol                        5789 non-null float64\n",
      "rougher.input.feed_au                         5840 non-null float64\n",
      "rougher.input.floatbank10_sulfate             5599 non-null float64\n",
      "rougher.input.floatbank10_xanthate            5733 non-null float64\n",
      "rougher.input.floatbank11_sulfate             5801 non-null float64\n",
      "rougher.input.floatbank11_xanthate            5503 non-null float64\n",
      "rougher.state.floatbank10_a_air               5839 non-null float64\n",
      "rougher.state.floatbank10_a_level             5840 non-null float64\n",
      "rougher.state.floatbank10_b_air               5839 non-null float64\n",
      "rougher.state.floatbank10_b_level             5840 non-null float64\n",
      "rougher.state.floatbank10_c_air               5839 non-null float64\n",
      "rougher.state.floatbank10_c_level             5840 non-null float64\n",
      "rougher.state.floatbank10_d_air               5839 non-null float64\n",
      "rougher.state.floatbank10_d_level             5840 non-null float64\n",
      "rougher.state.floatbank10_e_air               5839 non-null float64\n",
      "rougher.state.floatbank10_e_level             5840 non-null float64\n",
      "rougher.state.floatbank10_f_air               5839 non-null float64\n",
      "rougher.state.floatbank10_f_level             5840 non-null float64\n",
      "secondary_cleaner.state.floatbank2_a_air      5836 non-null float64\n",
      "secondary_cleaner.state.floatbank2_a_level    5840 non-null float64\n",
      "secondary_cleaner.state.floatbank2_b_air      5833 non-null float64\n",
      "secondary_cleaner.state.floatbank2_b_level    5840 non-null float64\n",
      "secondary_cleaner.state.floatbank3_a_air      5822 non-null float64\n",
      "secondary_cleaner.state.floatbank3_a_level    5840 non-null float64\n",
      "secondary_cleaner.state.floatbank3_b_air      5840 non-null float64\n",
      "secondary_cleaner.state.floatbank3_b_level    5840 non-null float64\n",
      "secondary_cleaner.state.floatbank4_a_air      5840 non-null float64\n",
      "secondary_cleaner.state.floatbank4_a_level    5840 non-null float64\n",
      "secondary_cleaner.state.floatbank4_b_air      5840 non-null float64\n",
      "secondary_cleaner.state.floatbank4_b_level    5840 non-null float64\n",
      "secondary_cleaner.state.floatbank5_a_air      5840 non-null float64\n",
      "secondary_cleaner.state.floatbank5_a_level    5840 non-null float64\n",
      "secondary_cleaner.state.floatbank5_b_air      5840 non-null float64\n",
      "secondary_cleaner.state.floatbank5_b_level    5840 non-null float64\n",
      "secondary_cleaner.state.floatbank6_a_air      5840 non-null float64\n",
      "secondary_cleaner.state.floatbank6_a_level    5840 non-null float64\n",
      "dtypes: float64(52), object(1)\n",
      "memory usage: 2.4+ MB\n",
      "<class 'pandas.core.frame.DataFrame'>\n",
      "RangeIndex: 22716 entries, 0 to 22715\n",
      "Data columns (total 87 columns):\n",
      "date                                                  22716 non-null object\n",
      "final.output.concentrate_ag                           22627 non-null float64\n",
      "final.output.concentrate_pb                           22629 non-null float64\n",
      "final.output.concentrate_sol                          22331 non-null float64\n",
      "final.output.concentrate_au                           22630 non-null float64\n",
      "final.output.recovery                                 20753 non-null float64\n",
      "final.output.tail_ag                                  22633 non-null float64\n",
      "final.output.tail_pb                                  22516 non-null float64\n",
      "final.output.tail_sol                                 22445 non-null float64\n",
      "final.output.tail_au                                  22635 non-null float64\n",
      "primary_cleaner.input.sulfate                         21107 non-null float64\n",
      "primary_cleaner.input.depressant                      21170 non-null float64\n",
      "primary_cleaner.input.feed_size                       22716 non-null float64\n",
      "primary_cleaner.input.xanthate                        21565 non-null float64\n",
      "primary_cleaner.output.concentrate_ag                 22618 non-null float64\n",
      "primary_cleaner.output.concentrate_pb                 22268 non-null float64\n",
      "primary_cleaner.output.concentrate_sol                21918 non-null float64\n",
      "primary_cleaner.output.concentrate_au                 22618 non-null float64\n",
      "primary_cleaner.output.tail_ag                        22614 non-null float64\n",
      "primary_cleaner.output.tail_pb                        22594 non-null float64\n",
      "primary_cleaner.output.tail_sol                       22365 non-null float64\n",
      "primary_cleaner.output.tail_au                        22617 non-null float64\n",
      "primary_cleaner.state.floatbank8_a_air                22660 non-null float64\n",
      "primary_cleaner.state.floatbank8_a_level              22667 non-null float64\n",
      "primary_cleaner.state.floatbank8_b_air                22660 non-null float64\n",
      "primary_cleaner.state.floatbank8_b_level              22673 non-null float64\n",
      "primary_cleaner.state.floatbank8_c_air                22662 non-null float64\n",
      "primary_cleaner.state.floatbank8_c_level              22673 non-null float64\n",
      "primary_cleaner.state.floatbank8_d_air                22661 non-null float64\n",
      "primary_cleaner.state.floatbank8_d_level              22673 non-null float64\n",
      "rougher.calculation.sulfate_to_au_concentrate         22672 non-null float64\n",
      "rougher.calculation.floatbank10_sulfate_to_au_feed    22672 non-null float64\n",
      "rougher.calculation.floatbank11_sulfate_to_au_feed    22672 non-null float64\n",
      "rougher.calculation.au_pb_ratio                       21089 non-null float64\n",
      "rougher.input.feed_ag                                 22618 non-null float64\n",
      "rougher.input.feed_pb                                 22472 non-null float64\n",
      "rougher.input.feed_rate                               22163 non-null float64\n",
      "rougher.input.feed_size                               22277 non-null float64\n",
      "rougher.input.feed_sol                                22357 non-null float64\n",
      "rougher.input.feed_au                                 22617 non-null float64\n",
      "rougher.input.floatbank10_sulfate                     21415 non-null float64\n",
      "rougher.input.floatbank10_xanthate                    22247 non-null float64\n",
      "rougher.input.floatbank11_sulfate                     22038 non-null float64\n",
      "rougher.input.floatbank11_xanthate                    20459 non-null float64\n",
      "rougher.output.concentrate_ag                         22618 non-null float64\n",
      "rougher.output.concentrate_pb                         22618 non-null float64\n",
      "rougher.output.concentrate_sol                        22526 non-null float64\n",
      "rougher.output.concentrate_au                         22618 non-null float64\n",
      "rougher.output.recovery                               19597 non-null float64\n",
      "rougher.output.tail_ag                                19979 non-null float64\n",
      "rougher.output.tail_pb                                22618 non-null float64\n",
      "rougher.output.tail_sol                               19980 non-null float64\n",
      "rougher.output.tail_au                                19980 non-null float64\n",
      "rougher.state.floatbank10_a_air                       22646 non-null float64\n",
      "rougher.state.floatbank10_a_level                     22647 non-null float64\n",
      "rougher.state.floatbank10_b_air                       22646 non-null float64\n",
      "rougher.state.floatbank10_b_level                     22647 non-null float64\n",
      "rougher.state.floatbank10_c_air                       22646 non-null float64\n",
      "rougher.state.floatbank10_c_level                     22654 non-null float64\n",
      "rougher.state.floatbank10_d_air                       22641 non-null float64\n",
      "rougher.state.floatbank10_d_level                     22649 non-null float64\n",
      "rougher.state.floatbank10_e_air                       22096 non-null float64\n",
      "rougher.state.floatbank10_e_level                     22649 non-null float64\n",
      "rougher.state.floatbank10_f_air                       22641 non-null float64\n",
      "rougher.state.floatbank10_f_level                     22642 non-null float64\n",
      "secondary_cleaner.output.tail_ag                      22616 non-null float64\n",
      "secondary_cleaner.output.tail_pb                      22600 non-null float64\n",
      "secondary_cleaner.output.tail_sol                     20501 non-null float64\n",
      "secondary_cleaner.output.tail_au                      22618 non-null float64\n",
      "secondary_cleaner.state.floatbank2_a_air              22333 non-null float64\n",
      "secondary_cleaner.state.floatbank2_a_level            22591 non-null float64\n",
      "secondary_cleaner.state.floatbank2_b_air              22538 non-null float64\n",
      "secondary_cleaner.state.floatbank2_b_level            22588 non-null float64\n",
      "secondary_cleaner.state.floatbank3_a_air              22585 non-null float64\n",
      "secondary_cleaner.state.floatbank3_a_level            22587 non-null float64\n",
      "secondary_cleaner.state.floatbank3_b_air              22592 non-null float64\n",
      "secondary_cleaner.state.floatbank3_b_level            22590 non-null float64\n",
      "secondary_cleaner.state.floatbank4_a_air              22571 non-null float64\n",
      "secondary_cleaner.state.floatbank4_a_level            22587 non-null float64\n",
      "secondary_cleaner.state.floatbank4_b_air              22608 non-null float64\n",
      "secondary_cleaner.state.floatbank4_b_level            22607 non-null float64\n",
      "secondary_cleaner.state.floatbank5_a_air              22615 non-null float64\n",
      "secondary_cleaner.state.floatbank5_a_level            22615 non-null float64\n",
      "secondary_cleaner.state.floatbank5_b_air              22615 non-null float64\n",
      "secondary_cleaner.state.floatbank5_b_level            22616 non-null float64\n",
      "secondary_cleaner.state.floatbank6_a_air              22597 non-null float64\n",
      "secondary_cleaner.state.floatbank6_a_level            22615 non-null float64\n",
      "dtypes: float64(86), object(1)\n",
      "memory usage: 15.1+ MB\n"
     ]
    }
   ],
   "source": [
    "data_info(train)\n",
    "data_info(test)\n",
    "data_info(data)"
   ]
  },
  {
   "cell_type": "markdown",
   "metadata": {},
   "source": [
    "В датасетах есть пропуски. Напишем функцию, чтобы увидеть какой процент пропусков мы имеем в том или ином столбце:"
   ]
  },
  {
   "cell_type": "code",
   "execution_count": 5,
   "metadata": {},
   "outputs": [],
   "source": [
    "def calc_null(data):\n",
    "    print('Столбец','Пропуски, %')\n",
    "    for col in data.columns:\n",
    "        null_col = data[col].isnull().sum() / len(data)\n",
    "        print('{:<50}{:.1%}'.format(col, null_col))"
   ]
  },
  {
   "cell_type": "markdown",
   "metadata": {},
   "source": [
    "Пропуски в датасете *Train*:"
   ]
  },
  {
   "cell_type": "code",
   "execution_count": 6,
   "metadata": {},
   "outputs": [
    {
     "name": "stdout",
     "output_type": "stream",
     "text": [
      "Столбец Пропуски, %\n",
      "date                                              0.0%\n",
      "final.output.concentrate_ag                       0.4%\n",
      "final.output.concentrate_pb                       0.4%\n",
      "final.output.concentrate_sol                      2.2%\n",
      "final.output.concentrate_au                       0.4%\n",
      "final.output.recovery                             9.0%\n",
      "final.output.tail_ag                              0.4%\n",
      "final.output.tail_pb                              1.1%\n",
      "final.output.tail_sol                             0.9%\n",
      "final.output.tail_au                              0.4%\n",
      "primary_cleaner.input.sulfate                     7.8%\n",
      "primary_cleaner.input.depressant                  7.5%\n",
      "primary_cleaner.input.feed_size                   0.0%\n",
      "primary_cleaner.input.xanthate                    5.8%\n",
      "primary_cleaner.output.concentrate_ag             0.5%\n",
      "primary_cleaner.output.concentrate_pb             2.1%\n",
      "primary_cleaner.output.concentrate_sol            3.8%\n",
      "primary_cleaner.output.concentrate_au             0.5%\n",
      "primary_cleaner.output.tail_ag                    0.5%\n",
      "primary_cleaner.output.tail_pb                    0.6%\n",
      "primary_cleaner.output.tail_sol                   1.7%\n",
      "primary_cleaner.output.tail_au                    0.5%\n",
      "primary_cleaner.state.floatbank8_a_air            0.2%\n",
      "primary_cleaner.state.floatbank8_a_level          0.2%\n",
      "primary_cleaner.state.floatbank8_b_air            0.2%\n",
      "primary_cleaner.state.floatbank8_b_level          0.2%\n",
      "primary_cleaner.state.floatbank8_c_air            0.2%\n",
      "primary_cleaner.state.floatbank8_c_level          0.2%\n",
      "primary_cleaner.state.floatbank8_d_air            0.2%\n",
      "primary_cleaner.state.floatbank8_d_level          0.2%\n",
      "rougher.calculation.sulfate_to_au_concentrate     0.2%\n",
      "rougher.calculation.floatbank10_sulfate_to_au_feed0.2%\n",
      "rougher.calculation.floatbank11_sulfate_to_au_feed0.2%\n",
      "rougher.calculation.au_pb_ratio                   7.4%\n",
      "rougher.input.feed_ag                             0.5%\n",
      "rougher.input.feed_pb                             1.4%\n",
      "rougher.input.feed_rate                           3.0%\n",
      "rougher.input.feed_size                           2.5%\n",
      "rougher.input.feed_sol                            1.7%\n",
      "rougher.input.feed_au                             0.5%\n",
      "rougher.input.floatbank10_sulfate                 6.2%\n",
      "rougher.input.floatbank10_xanthate                2.1%\n",
      "rougher.input.floatbank11_sulfate                 3.7%\n",
      "rougher.input.floatbank11_xanthate                11.3%\n",
      "rougher.output.concentrate_ag                     0.5%\n",
      "rougher.output.concentrate_pb                     0.5%\n",
      "rougher.output.concentrate_sol                    1.0%\n",
      "rougher.output.concentrate_au                     0.5%\n",
      "rougher.output.recovery                           15.3%\n",
      "rougher.output.tail_ag                            13.3%\n",
      "rougher.output.tail_pb                            0.5%\n",
      "rougher.output.tail_sol                           13.3%\n",
      "rougher.output.tail_au                            13.3%\n",
      "rougher.state.floatbank10_a_air                   0.3%\n",
      "rougher.state.floatbank10_a_level                 0.3%\n",
      "rougher.state.floatbank10_b_air                   0.3%\n",
      "rougher.state.floatbank10_b_level                 0.3%\n",
      "rougher.state.floatbank10_c_air                   0.3%\n",
      "rougher.state.floatbank10_c_level                 0.3%\n",
      "rougher.state.floatbank10_d_air                   0.3%\n",
      "rougher.state.floatbank10_d_level                 0.3%\n",
      "rougher.state.floatbank10_e_air                   3.6%\n",
      "rougher.state.floatbank10_e_level                 0.3%\n",
      "rougher.state.floatbank10_f_air                   0.3%\n",
      "rougher.state.floatbank10_f_level                 0.3%\n",
      "secondary_cleaner.output.tail_ag                  0.5%\n",
      "secondary_cleaner.output.tail_pb                  0.6%\n",
      "secondary_cleaner.output.tail_sol                 11.8%\n",
      "secondary_cleaner.output.tail_au                  0.5%\n",
      "secondary_cleaner.state.floatbank2_a_air          2.2%\n",
      "secondary_cleaner.state.floatbank2_a_level        0.6%\n",
      "secondary_cleaner.state.floatbank2_b_air          0.9%\n",
      "secondary_cleaner.state.floatbank2_b_level        0.7%\n",
      "secondary_cleaner.state.floatbank3_a_air          0.6%\n",
      "secondary_cleaner.state.floatbank3_a_level        0.7%\n",
      "secondary_cleaner.state.floatbank3_b_air          0.6%\n",
      "secondary_cleaner.state.floatbank3_b_level        0.7%\n",
      "secondary_cleaner.state.floatbank4_a_air          0.8%\n",
      "secondary_cleaner.state.floatbank4_a_level        0.7%\n",
      "secondary_cleaner.state.floatbank4_b_air          0.5%\n",
      "secondary_cleaner.state.floatbank4_b_level        0.6%\n",
      "secondary_cleaner.state.floatbank5_a_air          0.5%\n",
      "secondary_cleaner.state.floatbank5_a_level        0.5%\n",
      "secondary_cleaner.state.floatbank5_b_air          0.5%\n",
      "secondary_cleaner.state.floatbank5_b_level        0.5%\n",
      "secondary_cleaner.state.floatbank6_a_air          0.6%\n",
      "secondary_cleaner.state.floatbank6_a_level        0.5%\n"
     ]
    }
   ],
   "source": [
    "calc_null(train)"
   ]
  },
  {
   "cell_type": "markdown",
   "metadata": {},
   "source": [
    "Пропуски в датасете *Test*:"
   ]
  },
  {
   "cell_type": "code",
   "execution_count": 7,
   "metadata": {},
   "outputs": [
    {
     "name": "stdout",
     "output_type": "stream",
     "text": [
      "Столбец Пропуски, %\n",
      "date                                              0.0%\n",
      "primary_cleaner.input.sulfate                     5.2%\n",
      "primary_cleaner.input.depressant                  4.8%\n",
      "primary_cleaner.input.feed_size                   0.0%\n",
      "primary_cleaner.input.xanthate                    2.8%\n",
      "primary_cleaner.state.floatbank8_a_air            0.3%\n",
      "primary_cleaner.state.floatbank8_a_level          0.3%\n",
      "primary_cleaner.state.floatbank8_b_air            0.3%\n",
      "primary_cleaner.state.floatbank8_b_level          0.3%\n",
      "primary_cleaner.state.floatbank8_c_air            0.3%\n",
      "primary_cleaner.state.floatbank8_c_level          0.3%\n",
      "primary_cleaner.state.floatbank8_d_air            0.3%\n",
      "primary_cleaner.state.floatbank8_d_level          0.3%\n",
      "rougher.input.feed_ag                             0.3%\n",
      "rougher.input.feed_pb                             0.3%\n",
      "rougher.input.feed_rate                           0.7%\n",
      "rougher.input.feed_size                           0.4%\n",
      "rougher.input.feed_sol                            1.1%\n",
      "rougher.input.feed_au                             0.3%\n",
      "rougher.input.floatbank10_sulfate                 4.4%\n",
      "rougher.input.floatbank10_xanthate                2.1%\n",
      "rougher.input.floatbank11_sulfate                 0.9%\n",
      "rougher.input.floatbank11_xanthate                6.0%\n",
      "rougher.state.floatbank10_a_air                   0.3%\n",
      "rougher.state.floatbank10_a_level                 0.3%\n",
      "rougher.state.floatbank10_b_air                   0.3%\n",
      "rougher.state.floatbank10_b_level                 0.3%\n",
      "rougher.state.floatbank10_c_air                   0.3%\n",
      "rougher.state.floatbank10_c_level                 0.3%\n",
      "rougher.state.floatbank10_d_air                   0.3%\n",
      "rougher.state.floatbank10_d_level                 0.3%\n",
      "rougher.state.floatbank10_e_air                   0.3%\n",
      "rougher.state.floatbank10_e_level                 0.3%\n",
      "rougher.state.floatbank10_f_air                   0.3%\n",
      "rougher.state.floatbank10_f_level                 0.3%\n",
      "secondary_cleaner.state.floatbank2_a_air          0.3%\n",
      "secondary_cleaner.state.floatbank2_a_level        0.3%\n",
      "secondary_cleaner.state.floatbank2_b_air          0.4%\n",
      "secondary_cleaner.state.floatbank2_b_level        0.3%\n",
      "secondary_cleaner.state.floatbank3_a_air          0.6%\n",
      "secondary_cleaner.state.floatbank3_a_level        0.3%\n",
      "secondary_cleaner.state.floatbank3_b_air          0.3%\n",
      "secondary_cleaner.state.floatbank3_b_level        0.3%\n",
      "secondary_cleaner.state.floatbank4_a_air          0.3%\n",
      "secondary_cleaner.state.floatbank4_a_level        0.3%\n",
      "secondary_cleaner.state.floatbank4_b_air          0.3%\n",
      "secondary_cleaner.state.floatbank4_b_level        0.3%\n",
      "secondary_cleaner.state.floatbank5_a_air          0.3%\n",
      "secondary_cleaner.state.floatbank5_a_level        0.3%\n",
      "secondary_cleaner.state.floatbank5_b_air          0.3%\n",
      "secondary_cleaner.state.floatbank5_b_level        0.3%\n",
      "secondary_cleaner.state.floatbank6_a_air          0.3%\n",
      "secondary_cleaner.state.floatbank6_a_level        0.3%\n"
     ]
    }
   ],
   "source": [
    "calc_null(test)"
   ]
  },
  {
   "cell_type": "markdown",
   "metadata": {},
   "source": [
    "Пропуски в датасете *Data*:"
   ]
  },
  {
   "cell_type": "code",
   "execution_count": 8,
   "metadata": {},
   "outputs": [
    {
     "name": "stdout",
     "output_type": "stream",
     "text": [
      "Столбец Пропуски, %\n",
      "date                                              0.0%\n",
      "final.output.concentrate_ag                       0.4%\n",
      "final.output.concentrate_pb                       0.4%\n",
      "final.output.concentrate_sol                      1.7%\n",
      "final.output.concentrate_au                       0.4%\n",
      "final.output.recovery                             8.6%\n",
      "final.output.tail_ag                              0.4%\n",
      "final.output.tail_pb                              0.9%\n",
      "final.output.tail_sol                             1.2%\n",
      "final.output.tail_au                              0.4%\n",
      "primary_cleaner.input.sulfate                     7.1%\n",
      "primary_cleaner.input.depressant                  6.8%\n",
      "primary_cleaner.input.feed_size                   0.0%\n",
      "primary_cleaner.input.xanthate                    5.1%\n",
      "primary_cleaner.output.concentrate_ag             0.4%\n",
      "primary_cleaner.output.concentrate_pb             2.0%\n",
      "primary_cleaner.output.concentrate_sol            3.5%\n",
      "primary_cleaner.output.concentrate_au             0.4%\n",
      "primary_cleaner.output.tail_ag                    0.4%\n",
      "primary_cleaner.output.tail_pb                    0.5%\n",
      "primary_cleaner.output.tail_sol                   1.5%\n",
      "primary_cleaner.output.tail_au                    0.4%\n",
      "primary_cleaner.state.floatbank8_a_air            0.2%\n",
      "primary_cleaner.state.floatbank8_a_level          0.2%\n",
      "primary_cleaner.state.floatbank8_b_air            0.2%\n",
      "primary_cleaner.state.floatbank8_b_level          0.2%\n",
      "primary_cleaner.state.floatbank8_c_air            0.2%\n",
      "primary_cleaner.state.floatbank8_c_level          0.2%\n",
      "primary_cleaner.state.floatbank8_d_air            0.2%\n",
      "primary_cleaner.state.floatbank8_d_level          0.2%\n",
      "rougher.calculation.sulfate_to_au_concentrate     0.2%\n",
      "rougher.calculation.floatbank10_sulfate_to_au_feed0.2%\n",
      "rougher.calculation.floatbank11_sulfate_to_au_feed0.2%\n",
      "rougher.calculation.au_pb_ratio                   7.2%\n",
      "rougher.input.feed_ag                             0.4%\n",
      "rougher.input.feed_pb                             1.1%\n",
      "rougher.input.feed_rate                           2.4%\n",
      "rougher.input.feed_size                           1.9%\n",
      "rougher.input.feed_sol                            1.6%\n",
      "rougher.input.feed_au                             0.4%\n",
      "rougher.input.floatbank10_sulfate                 5.7%\n",
      "rougher.input.floatbank10_xanthate                2.1%\n",
      "rougher.input.floatbank11_sulfate                 3.0%\n",
      "rougher.input.floatbank11_xanthate                9.9%\n",
      "rougher.output.concentrate_ag                     0.4%\n",
      "rougher.output.concentrate_pb                     0.4%\n",
      "rougher.output.concentrate_sol                    0.8%\n",
      "rougher.output.concentrate_au                     0.4%\n",
      "rougher.output.recovery                           13.7%\n",
      "rougher.output.tail_ag                            12.0%\n",
      "rougher.output.tail_pb                            0.4%\n",
      "rougher.output.tail_sol                           12.0%\n",
      "rougher.output.tail_au                            12.0%\n",
      "rougher.state.floatbank10_a_air                   0.3%\n",
      "rougher.state.floatbank10_a_level                 0.3%\n",
      "rougher.state.floatbank10_b_air                   0.3%\n",
      "rougher.state.floatbank10_b_level                 0.3%\n",
      "rougher.state.floatbank10_c_air                   0.3%\n",
      "rougher.state.floatbank10_c_level                 0.3%\n",
      "rougher.state.floatbank10_d_air                   0.3%\n",
      "rougher.state.floatbank10_d_level                 0.3%\n",
      "rougher.state.floatbank10_e_air                   2.7%\n",
      "rougher.state.floatbank10_e_level                 0.3%\n",
      "rougher.state.floatbank10_f_air                   0.3%\n",
      "rougher.state.floatbank10_f_level                 0.3%\n",
      "secondary_cleaner.output.tail_ag                  0.4%\n",
      "secondary_cleaner.output.tail_pb                  0.5%\n",
      "secondary_cleaner.output.tail_sol                 9.8%\n",
      "secondary_cleaner.output.tail_au                  0.4%\n",
      "secondary_cleaner.state.floatbank2_a_air          1.7%\n",
      "secondary_cleaner.state.floatbank2_a_level        0.6%\n",
      "secondary_cleaner.state.floatbank2_b_air          0.8%\n",
      "secondary_cleaner.state.floatbank2_b_level        0.6%\n",
      "secondary_cleaner.state.floatbank3_a_air          0.6%\n",
      "secondary_cleaner.state.floatbank3_a_level        0.6%\n",
      "secondary_cleaner.state.floatbank3_b_air          0.5%\n",
      "secondary_cleaner.state.floatbank3_b_level        0.6%\n",
      "secondary_cleaner.state.floatbank4_a_air          0.6%\n",
      "secondary_cleaner.state.floatbank4_a_level        0.6%\n",
      "secondary_cleaner.state.floatbank4_b_air          0.5%\n",
      "secondary_cleaner.state.floatbank4_b_level        0.5%\n",
      "secondary_cleaner.state.floatbank5_a_air          0.4%\n",
      "secondary_cleaner.state.floatbank5_a_level        0.4%\n",
      "secondary_cleaner.state.floatbank5_b_air          0.4%\n",
      "secondary_cleaner.state.floatbank5_b_level        0.4%\n",
      "secondary_cleaner.state.floatbank6_a_air          0.5%\n",
      "secondary_cleaner.state.floatbank6_a_level        0.4%\n"
     ]
    }
   ],
   "source": [
    "calc_null(data)"
   ]
  },
  {
   "cell_type": "markdown",
   "metadata": {},
   "source": [
    "Итак, пропуски присутствуют. Поговорим поподробнее о каждом датасете:\n",
    "\n",
    "* В **Train** пропуски достигают 15,3% от всего объёма данных;\n",
    "* В **Test** пропуски достигают 5,2% от всего объёма данных;\n",
    "* В **Data** пропуски достигают 13,7% от всего объёма данных."
   ]
  },
  {
   "cell_type": "markdown",
   "metadata": {},
   "source": [
    "Проверим на наличие дубликатов:"
   ]
  },
  {
   "cell_type": "code",
   "execution_count": 9,
   "metadata": {},
   "outputs": [],
   "source": [
    "def data_dupl(data):\n",
    "    print(data.duplicated().sum())"
   ]
  },
  {
   "cell_type": "code",
   "execution_count": 10,
   "metadata": {},
   "outputs": [
    {
     "name": "stdout",
     "output_type": "stream",
     "text": [
      "0\n",
      "0\n",
      "0\n"
     ]
    }
   ],
   "source": [
    "data_dupl(train)\n",
    "data_dupl(test)\n",
    "data_dupl(data)"
   ]
  },
  {
   "cell_type": "markdown",
   "metadata": {},
   "source": [
    "Дубликатов нет."
   ]
  },
  {
   "cell_type": "markdown",
   "metadata": {},
   "source": [
    "* **1.2. Проверим, что эффективность обогащения рассчитана правильно.**"
   ]
  },
  {
   "cell_type": "markdown",
   "metadata": {},
   "source": [
    "* Вычислим эффективность обогащения на обучающей выборке для признака rougher.output.recovery:"
   ]
  },
  {
   "cell_type": "code",
   "execution_count": 11,
   "metadata": {},
   "outputs": [],
   "source": [
    "aurum_after_cleaning = train['rougher.output.concentrate_au']\n",
    "aurum_before_cleaning = train['rougher.input.feed_au']\n",
    "aurum_in_tails = train['rougher.output.tail_au']\n",
    "\n",
    "train['recovery_mine'] = ((aurum_after_cleaning * (aurum_before_cleaning - aurum_in_tails)) / (aurum_before_cleaning * (aurum_after_cleaning - aurum_in_tails)))*100"
   ]
  },
  {
   "cell_type": "markdown",
   "metadata": {},
   "source": [
    "Сделаем срез и сравним посчитанную эффективность и ту, что дана по заданию:"
   ]
  },
  {
   "cell_type": "code",
   "execution_count": 12,
   "metadata": {},
   "outputs": [
    {
     "data": {
      "text/html": [
       "<div>\n",
       "<style scoped>\n",
       "    .dataframe tbody tr th:only-of-type {\n",
       "        vertical-align: middle;\n",
       "    }\n",
       "\n",
       "    .dataframe tbody tr th {\n",
       "        vertical-align: top;\n",
       "    }\n",
       "\n",
       "    .dataframe thead th {\n",
       "        text-align: right;\n",
       "    }\n",
       "</style>\n",
       "<table border=\"1\" class=\"dataframe\">\n",
       "  <thead>\n",
       "    <tr style=\"text-align: right;\">\n",
       "      <th></th>\n",
       "      <th>rougher.output.recovery</th>\n",
       "      <th>recovery_mine</th>\n",
       "    </tr>\n",
       "  </thead>\n",
       "  <tbody>\n",
       "    <tr>\n",
       "      <td>0</td>\n",
       "      <td>87.107763</td>\n",
       "      <td>87.107763</td>\n",
       "    </tr>\n",
       "    <tr>\n",
       "      <td>1</td>\n",
       "      <td>86.843261</td>\n",
       "      <td>86.843261</td>\n",
       "    </tr>\n",
       "    <tr>\n",
       "      <td>2</td>\n",
       "      <td>86.842308</td>\n",
       "      <td>86.842308</td>\n",
       "    </tr>\n",
       "    <tr>\n",
       "      <td>3</td>\n",
       "      <td>87.226430</td>\n",
       "      <td>87.226430</td>\n",
       "    </tr>\n",
       "    <tr>\n",
       "      <td>4</td>\n",
       "      <td>86.688794</td>\n",
       "      <td>86.688794</td>\n",
       "    </tr>\n",
       "    <tr>\n",
       "      <td>...</td>\n",
       "      <td>...</td>\n",
       "      <td>...</td>\n",
       "    </tr>\n",
       "    <tr>\n",
       "      <td>16855</td>\n",
       "      <td>89.574376</td>\n",
       "      <td>89.574376</td>\n",
       "    </tr>\n",
       "    <tr>\n",
       "      <td>16856</td>\n",
       "      <td>87.724007</td>\n",
       "      <td>87.724007</td>\n",
       "    </tr>\n",
       "    <tr>\n",
       "      <td>16857</td>\n",
       "      <td>88.890579</td>\n",
       "      <td>88.890579</td>\n",
       "    </tr>\n",
       "    <tr>\n",
       "      <td>16858</td>\n",
       "      <td>89.858126</td>\n",
       "      <td>89.858126</td>\n",
       "    </tr>\n",
       "    <tr>\n",
       "      <td>16859</td>\n",
       "      <td>89.514960</td>\n",
       "      <td>89.514960</td>\n",
       "    </tr>\n",
       "  </tbody>\n",
       "</table>\n",
       "<p>16860 rows × 2 columns</p>\n",
       "</div>"
      ],
      "text/plain": [
       "       rougher.output.recovery  recovery_mine\n",
       "0                    87.107763      87.107763\n",
       "1                    86.843261      86.843261\n",
       "2                    86.842308      86.842308\n",
       "3                    87.226430      87.226430\n",
       "4                    86.688794      86.688794\n",
       "...                        ...            ...\n",
       "16855                89.574376      89.574376\n",
       "16856                87.724007      87.724007\n",
       "16857                88.890579      88.890579\n",
       "16858                89.858126      89.858126\n",
       "16859                89.514960      89.514960\n",
       "\n",
       "[16860 rows x 2 columns]"
      ]
     },
     "execution_count": 12,
     "metadata": {},
     "output_type": "execute_result"
    }
   ],
   "source": [
    "train.loc[:, ['rougher.output.recovery', 'recovery_mine']]"
   ]
  },
  {
   "cell_type": "markdown",
   "metadata": {},
   "source": [
    "На первый взгляд, ошибок в подсчётах нет. Посчитаем среднюю ошибку:"
   ]
  },
  {
   "cell_type": "code",
   "execution_count": 13,
   "metadata": {},
   "outputs": [
    {
     "data": {
      "text/plain": [
       "9.444891926100695e-15"
      ]
     },
     "execution_count": 13,
     "metadata": {},
     "output_type": "execute_result"
    }
   ],
   "source": [
    "train.dropna(subset = ['rougher.output.recovery','recovery_mine'],inplace = True)\n",
    "MAE = mean_absolute_error(train['rougher.output.recovery'], train['recovery_mine'])\n",
    "MAE"
   ]
  },
  {
   "cell_type": "markdown",
   "metadata": {},
   "source": [
    "Вывод: признак *rougher.output.recovery* в обучающем датасете посчитан **верно**."
   ]
  },
  {
   "cell_type": "markdown",
   "metadata": {},
   "source": [
    "Удалим наш столбец \"recovery_mine\":"
   ]
  },
  {
   "cell_type": "code",
   "execution_count": 14,
   "metadata": {},
   "outputs": [],
   "source": [
    "del train['recovery_mine']"
   ]
  },
  {
   "cell_type": "markdown",
   "metadata": {},
   "source": [
    "* **1.3. Проанализируем признаки, недоступные в тестовой выборке.**"
   ]
  },
  {
   "cell_type": "code",
   "execution_count": 15,
   "metadata": {},
   "outputs": [],
   "source": [
    "data_col = data.columns\n",
    "test_col = test.columns\n",
    "rest = set(data_col) - set(test_col)"
   ]
  },
  {
   "cell_type": "markdown",
   "metadata": {},
   "source": [
    "Получаем список признаком, которые отсутствуют в тестовой выборке:"
   ]
  },
  {
   "cell_type": "code",
   "execution_count": 16,
   "metadata": {},
   "outputs": [
    {
     "data": {
      "text/plain": [
       "{'final.output.concentrate_ag',\n",
       " 'final.output.concentrate_au',\n",
       " 'final.output.concentrate_pb',\n",
       " 'final.output.concentrate_sol',\n",
       " 'final.output.recovery',\n",
       " 'final.output.tail_ag',\n",
       " 'final.output.tail_au',\n",
       " 'final.output.tail_pb',\n",
       " 'final.output.tail_sol',\n",
       " 'primary_cleaner.output.concentrate_ag',\n",
       " 'primary_cleaner.output.concentrate_au',\n",
       " 'primary_cleaner.output.concentrate_pb',\n",
       " 'primary_cleaner.output.concentrate_sol',\n",
       " 'primary_cleaner.output.tail_ag',\n",
       " 'primary_cleaner.output.tail_au',\n",
       " 'primary_cleaner.output.tail_pb',\n",
       " 'primary_cleaner.output.tail_sol',\n",
       " 'rougher.calculation.au_pb_ratio',\n",
       " 'rougher.calculation.floatbank10_sulfate_to_au_feed',\n",
       " 'rougher.calculation.floatbank11_sulfate_to_au_feed',\n",
       " 'rougher.calculation.sulfate_to_au_concentrate',\n",
       " 'rougher.output.concentrate_ag',\n",
       " 'rougher.output.concentrate_au',\n",
       " 'rougher.output.concentrate_pb',\n",
       " 'rougher.output.concentrate_sol',\n",
       " 'rougher.output.recovery',\n",
       " 'rougher.output.tail_ag',\n",
       " 'rougher.output.tail_au',\n",
       " 'rougher.output.tail_pb',\n",
       " 'rougher.output.tail_sol',\n",
       " 'secondary_cleaner.output.tail_ag',\n",
       " 'secondary_cleaner.output.tail_au',\n",
       " 'secondary_cleaner.output.tail_pb',\n",
       " 'secondary_cleaner.output.tail_sol'}"
      ]
     },
     "execution_count": 16,
     "metadata": {},
     "output_type": "execute_result"
    }
   ],
   "source": [
    "rest"
   ]
  },
  {
   "cell_type": "markdown",
   "metadata": {},
   "source": [
    "Все отсутствующие признаки относятся к типу \"число с плавающей запятой\" **float64**"
   ]
  },
  {
   "cell_type": "markdown",
   "metadata": {},
   "source": [
    "* **1.4. Произведём предобработку данных.**"
   ]
  },
  {
   "cell_type": "markdown",
   "metadata": {},
   "source": [
    "заполним пропуски в датасетах методом линейной интерполяции:"
   ]
  },
  {
   "cell_type": "code",
   "execution_count": 17,
   "metadata": {},
   "outputs": [],
   "source": [
    "data.interpolate(inplace=True)\n",
    "train.interpolate(inplace=True)\n",
    "test.interpolate(inplace=True)"
   ]
  },
  {
   "cell_type": "markdown",
   "metadata": {},
   "source": [
    "Проверим, остались ли пропуски:"
   ]
  },
  {
   "cell_type": "code",
   "execution_count": 18,
   "metadata": {},
   "outputs": [
    {
     "data": {
      "text/plain": [
       "0"
      ]
     },
     "execution_count": 18,
     "metadata": {},
     "output_type": "execute_result"
    }
   ],
   "source": [
    "data.isnull().sum().sum()\n",
    "train.isnull().sum().sum()\n",
    "test.isnull().sum().sum()"
   ]
  },
  {
   "cell_type": "markdown",
   "metadata": {},
   "source": [
    "**ВЫВОД:** \n",
    "* Файлы открыты и изучены;\n",
    "* Убедились в том, что эффективность обогащения рассчитана правильно;\n",
    "* Обнаружили признаки, недоступные в тестовой выборке. Эти параметры относятся к типу float64;\n",
    "* Заполнили пропуски методом линейной интерполяции."
   ]
  },
  {
   "cell_type": "markdown",
   "metadata": {},
   "source": [
    "# 2. Анализ данных"
   ]
  },
  {
   "cell_type": "markdown",
   "metadata": {},
   "source": [
    "* **2.1. Посмотрим, как меняется концентрация металлов (Au, Ag, Pb) на различных этапах очистки.**"
   ]
  },
  {
   "cell_type": "markdown",
   "metadata": {},
   "source": [
    "Итак, у нас 4 основных этапа, где будем отслеживать концентрацию металлов.\n",
    "В скобках укажем, какие нам нужны столбцы.\n",
    "Будем исследовать концентрацию...:\n",
    "* ...в изначальной  смеси ('rougher.input.feed_')\n",
    "* ...после флотации ('rougher.output.concentrate_')\n",
    "* ...после первого этапа очистки ('primary_cleaner.output.concentrate_')\n",
    "* ...в финальном концентрате ('final.output.concentrate_')\n",
    "\n",
    "Сделаем срезы для удобства построения гистограмм (датасет *data_Sol* понадобится нам в следующем пункте проекта):"
   ]
  },
  {
   "cell_type": "code",
   "execution_count": 19,
   "metadata": {},
   "outputs": [],
   "source": [
    "cols_Au = ['rougher.input.feed_au', 'rougher.output.concentrate_au','primary_cleaner.output.concentrate_au','final.output.concentrate_au']\n",
    "cols_Ag = ['rougher.input.feed_ag', 'rougher.output.concentrate_ag','primary_cleaner.output.concentrate_ag','final.output.concentrate_ag']\n",
    "cols_Pb = ['rougher.input.feed_pb', 'rougher.output.concentrate_pb','primary_cleaner.output.concentrate_pb','final.output.concentrate_pb']\n",
    "cols_Sol = ['rougher.input.feed_sol', 'rougher.output.concentrate_sol','primary_cleaner.output.concentrate_sol','final.output.concentrate_sol']"
   ]
  },
  {
   "cell_type": "code",
   "execution_count": 20,
   "metadata": {},
   "outputs": [],
   "source": [
    "data_Au = data.loc[:, cols_Au]\n",
    "data_Ag = data.loc[:, cols_Ag]\n",
    "data_Pb = data.loc[:, cols_Pb]\n",
    "data_Sol = data.loc[:, cols_Sol]"
   ]
  },
  {
   "cell_type": "code",
   "execution_count": 21,
   "metadata": {},
   "outputs": [],
   "source": [
    "def print_plot(data,cols):\n",
    "    plt.figure(figsize=(16,6))\n",
    "    ax = sns.violinplot(x='variable', y='value', data=pd.melt(data[cols]))"
   ]
  },
  {
   "cell_type": "code",
   "execution_count": 22,
   "metadata": {},
   "outputs": [
    {
     "data": {
      "image/png": "[encoded data removed]",
      "text/plain": [
       "<Figure size 1152x432 with 1 Axes>"
      ]
     },
     "metadata": {
      "needs_background": "light"
     },
     "output_type": "display_data"
    },
    {
     "data": {
      "image/png": "[encoded data removed]",
      "text/plain": [
       "<Figure size 1152x432 with 1 Axes>"
      ]
     },
     "metadata": {
      "needs_background": "light"
     },
     "output_type": "display_data"
    },
    {
     "data": {
      "image/png": "[encoded data removed]",
      "text/plain": [
       "<Figure size 1152x432 with 1 Axes>"
      ]
     },
     "metadata": {
      "needs_background": "light"
     },
     "output_type": "display_data"
    }
   ],
   "source": [
    "print_plot(data_Au,cols_Au)\n",
    "print_plot(data_Ag,cols_Ag)\n",
    "print_plot(data_Pb,cols_Pb)"
   ]
  },
  {
   "cell_type": "markdown",
   "metadata": {},
   "source": [
    "Отчётливо видим, как линейно возрастает концентрация золота в нашей смеси.\n",
    "Серебро падает нелинейно.\n",
    "Свинец возрастает нелинейно.\n",
    "В районе нуля отчёливо видим выбросы."
   ]
  },
  {
   "cell_type": "markdown",
   "metadata": {},
   "source": [
    "* **2.2. Сравним распределения размеров гранул сырья на обучающей и тестовой выборках.**"
   ]
  },
  {
   "cell_type": "code",
   "execution_count": 23,
   "metadata": {},
   "outputs": [],
   "source": [
    "def plot_hist(data,col,a,b):\n",
    "    data[col].plot(kind='hist', alpha = 0.5, bins = 100, range=(a, b))\n",
    "    plt.xlabel('размер гранул сырья')"
   ]
  },
  {
   "cell_type": "code",
   "execution_count": 24,
   "metadata": {},
   "outputs": [
    {
     "data": {
      "image/png": "[encoded data removed]",
      "text/plain": [
       "<Figure size 432x288 with 1 Axes>"
      ]
     },
     "metadata": {
      "needs_background": "light"
     },
     "output_type": "display_data"
    }
   ],
   "source": [
    "plot_hist(train,'rougher.input.feed_size',10,120)\n",
    "plot_hist(test,'rougher.input.feed_size',10,120)"
   ]
  },
  {
   "cell_type": "markdown",
   "metadata": {},
   "source": [
    "Будем считать, что распределения близки друг к другу."
   ]
  },
  {
   "cell_type": "markdown",
   "metadata": {},
   "source": [
    "* **2.3. Исследуем суммарную концентрацию всех веществ на разных стадиях: в сырье, в черновом и финальном концентратах.**"
   ]
  },
  {
   "cell_type": "markdown",
   "metadata": {},
   "source": [
    "Создадим датафрейм с суммарной концентрацией:"
   ]
  },
  {
   "cell_type": "code",
   "execution_count": 25,
   "metadata": {},
   "outputs": [
    {
     "data": {
      "text/html": [
       "<div>\n",
       "<style scoped>\n",
       "    .dataframe tbody tr th:only-of-type {\n",
       "        vertical-align: middle;\n",
       "    }\n",
       "\n",
       "    .dataframe tbody tr th {\n",
       "        vertical-align: top;\n",
       "    }\n",
       "\n",
       "    .dataframe thead th {\n",
       "        text-align: right;\n",
       "    }\n",
       "</style>\n",
       "<table border=\"1\" class=\"dataframe\">\n",
       "  <thead>\n",
       "    <tr style=\"text-align: right;\">\n",
       "      <th></th>\n",
       "      <th>sum_1</th>\n",
       "      <th>sum_2</th>\n",
       "      <th>sum_3</th>\n",
       "      <th>sum_4</th>\n",
       "    </tr>\n",
       "  </thead>\n",
       "  <tbody>\n",
       "    <tr>\n",
       "      <td>0</td>\n",
       "      <td>51.680034</td>\n",
       "      <td>66.424950</td>\n",
       "      <td>72.640924</td>\n",
       "      <td>63.644396</td>\n",
       "    </tr>\n",
       "    <tr>\n",
       "      <td>1</td>\n",
       "      <td>50.659114</td>\n",
       "      <td>67.012710</td>\n",
       "      <td>72.543485</td>\n",
       "      <td>63.957723</td>\n",
       "    </tr>\n",
       "    <tr>\n",
       "      <td>2</td>\n",
       "      <td>50.609929</td>\n",
       "      <td>66.103793</td>\n",
       "      <td>72.095042</td>\n",
       "      <td>64.311180</td>\n",
       "    </tr>\n",
       "    <tr>\n",
       "      <td>3</td>\n",
       "      <td>51.061546</td>\n",
       "      <td>65.752751</td>\n",
       "      <td>59.957723</td>\n",
       "      <td>63.573449</td>\n",
       "    </tr>\n",
       "    <tr>\n",
       "      <td>4</td>\n",
       "      <td>47.859163</td>\n",
       "      <td>65.908382</td>\n",
       "      <td>71.321010</td>\n",
       "      <td>64.004667</td>\n",
       "    </tr>\n",
       "    <tr>\n",
       "      <td>...</td>\n",
       "      <td>...</td>\n",
       "      <td>...</td>\n",
       "      <td>...</td>\n",
       "      <td>...</td>\n",
       "    </tr>\n",
       "    <tr>\n",
       "      <td>22711</td>\n",
       "      <td>53.415050</td>\n",
       "      <td>70.781325</td>\n",
       "      <td>59.001692</td>\n",
       "      <td>68.098589</td>\n",
       "    </tr>\n",
       "    <tr>\n",
       "      <td>22712</td>\n",
       "      <td>53.696482</td>\n",
       "      <td>70.539603</td>\n",
       "      <td>59.703912</td>\n",
       "      <td>68.274362</td>\n",
       "    </tr>\n",
       "    <tr>\n",
       "      <td>22713</td>\n",
       "      <td>54.589604</td>\n",
       "      <td>55.376330</td>\n",
       "      <td>59.561096</td>\n",
       "      <td>68.226068</td>\n",
       "    </tr>\n",
       "    <tr>\n",
       "      <td>22714</td>\n",
       "      <td>54.027355</td>\n",
       "      <td>69.201689</td>\n",
       "      <td>57.216686</td>\n",
       "      <td>68.200449</td>\n",
       "    </tr>\n",
       "    <tr>\n",
       "      <td>22715</td>\n",
       "      <td>53.535054</td>\n",
       "      <td>69.544003</td>\n",
       "      <td>55.748041</td>\n",
       "      <td>68.353154</td>\n",
       "    </tr>\n",
       "  </tbody>\n",
       "</table>\n",
       "<p>22716 rows × 4 columns</p>\n",
       "</div>"
      ],
      "text/plain": [
       "           sum_1      sum_2      sum_3      sum_4\n",
       "0      51.680034  66.424950  72.640924  63.644396\n",
       "1      50.659114  67.012710  72.543485  63.957723\n",
       "2      50.609929  66.103793  72.095042  64.311180\n",
       "3      51.061546  65.752751  59.957723  63.573449\n",
       "4      47.859163  65.908382  71.321010  64.004667\n",
       "...          ...        ...        ...        ...\n",
       "22711  53.415050  70.781325  59.001692  68.098589\n",
       "22712  53.696482  70.539603  59.703912  68.274362\n",
       "22713  54.589604  55.376330  59.561096  68.226068\n",
       "22714  54.027355  69.201689  57.216686  68.200449\n",
       "22715  53.535054  69.544003  55.748041  68.353154\n",
       "\n",
       "[22716 rows x 4 columns]"
      ]
     },
     "execution_count": 25,
     "metadata": {},
     "output_type": "execute_result"
    }
   ],
   "source": [
    "data_all2 = data_Au.join(data_Ag, how='inner')\n",
    "data_all1 = data_all2.join(data_Pb, how='inner')\n",
    "data_all = data_all1.join(data_Sol, how='inner')\n",
    "data_all['sum_1'] = data_all['rougher.input.feed_au'] + data_all['rougher.input.feed_ag'] + data_all['rougher.input.feed_pb'] + data_all['rougher.input.feed_sol']  \n",
    "data_all['sum_2'] = data_all['rougher.output.concentrate_au'] + data_all['rougher.output.concentrate_ag'] + data_all['rougher.output.concentrate_pb']  + data_all['rougher.output.concentrate_sol'] \n",
    "data_all['sum_3'] = data_all['primary_cleaner.output.concentrate_au'] + data_all['primary_cleaner.output.concentrate_ag'] + data_all['primary_cleaner.output.concentrate_pb']  + data_all['primary_cleaner.output.concentrate_sol'] \n",
    "data_all['sum_4'] = data_all['final.output.concentrate_au'] + data_all['final.output.concentrate_ag'] + data_all['final.output.concentrate_pb'] + data_all['final.output.concentrate_sol']\n",
    "data_all_conc = data_all.loc[:, 'sum_1': 'sum_4']\n",
    "data_all_conc"
   ]
  },
  {
   "cell_type": "markdown",
   "metadata": {},
   "source": [
    "Построим распределение суммарной концентраций для четырёх стадий:"
   ]
  },
  {
   "cell_type": "code",
   "execution_count": 26,
   "metadata": {},
   "outputs": [
    {
     "data": {
      "image/png": "[encoded data removed]",
      "text/plain": [
       "<Figure size 432x288 with 1 Axes>"
      ]
     },
     "metadata": {
      "needs_background": "light"
     },
     "output_type": "display_data"
    }
   ],
   "source": [
    "plot_hist(data_all_conc,'sum_1',0,100)\n",
    "plot_hist(data_all_conc,'sum_2',0,100)\n",
    "plot_hist(data_all_conc,'sum_3',0,100)\n",
    "plot_hist(data_all_conc,'sum_4',0,100)"
   ]
  },
  {
   "cell_type": "markdown",
   "metadata": {},
   "source": [
    "Заметили аномальные значения в районе нуля. Наведём-ка зум:"
   ]
  },
  {
   "cell_type": "code",
   "execution_count": 27,
   "metadata": {},
   "outputs": [
    {
     "data": {
      "image/png": "[encoded data removed]",
      "text/plain": [
       "<Figure size 432x288 with 1 Axes>"
      ]
     },
     "metadata": {
      "needs_background": "light"
     },
     "output_type": "display_data"
    }
   ],
   "source": [
    "plot_hist(data_all_conc,'sum_1',0,0.3)\n",
    "plot_hist(data_all_conc,'sum_2',0,0.3)\n",
    "plot_hist(data_all_conc,'sum_3',0,0.3)\n",
    "plot_hist(data_all_conc,'sum_4',0,0.3)"
   ]
  },
  {
   "cell_type": "markdown",
   "metadata": {},
   "source": [
    "Аномальные данные лежат в диапазоне до 0,05. Их необходимо удалить.\n",
    "Удаляем эти аномальные значения из наших выборок:"
   ]
  },
  {
   "cell_type": "code",
   "execution_count": 28,
   "metadata": {},
   "outputs": [],
   "source": [
    "colcol = cols_Au + cols_Ag + cols_Pb + cols_Sol"
   ]
  },
  {
   "cell_type": "code",
   "execution_count": 29,
   "metadata": {},
   "outputs": [],
   "source": [
    "data.loc[:, colcol] = data.loc[:, colcol][data.loc[:, colcol] > 0.05] "
   ]
  },
  {
   "cell_type": "code",
   "execution_count": 30,
   "metadata": {},
   "outputs": [],
   "source": [
    "train.loc[:, colcol] = train.loc[:, colcol][train.loc[:, colcol] > 0.05] "
   ]
  },
  {
   "cell_type": "code",
   "execution_count": 31,
   "metadata": {},
   "outputs": [],
   "source": [
    "colcol_test = ['rougher.input.feed_ag', 'rougher.input.feed_pb','rougher.input.feed_sol','rougher.input.feed_au']"
   ]
  },
  {
   "cell_type": "code",
   "execution_count": 32,
   "metadata": {},
   "outputs": [],
   "source": [
    "test.loc[:, colcol_test] = test.loc[:, colcol_test][train.loc[:, colcol_test] > 0.05] "
   ]
  },
  {
   "cell_type": "markdown",
   "metadata": {},
   "source": [
    "Проверим отфильтрованные датасеты на наличие пропущенных значений:"
   ]
  },
  {
   "cell_type": "code",
   "execution_count": 33,
   "metadata": {},
   "outputs": [
    {
     "data": {
      "text/plain": [
       "34921"
      ]
     },
     "execution_count": 33,
     "metadata": {},
     "output_type": "execute_result"
    }
   ],
   "source": [
    "data.isnull().sum().sum()"
   ]
  },
  {
   "cell_type": "code",
   "execution_count": 34,
   "metadata": {},
   "outputs": [
    {
     "data": {
      "text/plain": [
       "3343"
      ]
     },
     "execution_count": 34,
     "metadata": {},
     "output_type": "execute_result"
    }
   ],
   "source": [
    "test.isnull().sum().sum()"
   ]
  },
  {
   "cell_type": "code",
   "execution_count": 35,
   "metadata": {},
   "outputs": [
    {
     "data": {
      "text/plain": [
       "2733"
      ]
     },
     "execution_count": 35,
     "metadata": {},
     "output_type": "execute_result"
    }
   ],
   "source": [
    "train.isnull().sum().sum()"
   ]
  },
  {
   "cell_type": "markdown",
   "metadata": {},
   "source": [
    "Там, где концентрация < 0.05, появились пропущенные значения. Удалим их:"
   ]
  },
  {
   "cell_type": "code",
   "execution_count": 36,
   "metadata": {},
   "outputs": [],
   "source": [
    "data = data.dropna()\n",
    "test = test.dropna()\n",
    "train = train.dropna()"
   ]
  },
  {
   "cell_type": "markdown",
   "metadata": {},
   "source": [
    "**ВЫВОД:** \n",
    "* Линейно возрастает концентрация золота в нашей смеси по мере продвижения к финальной стадии процесса.\n",
    "* Концентрация серебра падает нелинейно.\n",
    "* Концентрация свинца возрастает нелинейно.\n",
    "* Распределения размеров гранул сырья на обучающей и тестовой выборках близки друг к другу.\n",
    "* Исследовали суммарную концентрацию всех веществ на разных стадиях: в сырье, в черновом и финальном концентратах. Заметили аномальные значения в районе нуля. Удалили из тестовой, обучающей,тренировочной выборок значения концентраций, что меньше 0,05."
   ]
  },
  {
   "cell_type": "markdown",
   "metadata": {},
   "source": [
    "# 3. Модель"
   ]
  },
  {
   "cell_type": "markdown",
   "metadata": {},
   "source": [
    "* **3.1. Напишем функцию для вычисления итоговой sMAPE.**"
   ]
  },
  {
   "cell_type": "code",
   "execution_count": 37,
   "metadata": {},
   "outputs": [],
   "source": [
    "def sMAPE(target, prediction):\n",
    "    Target = np.array(target)\n",
    "    Prediction = np.array(prediction)\n",
    "    smape = (2 * abs(Target - Prediction)) / (abs(Target) + abs(Prediction))\n",
    "    \n",
    "    return (smape.sum() / len(Target)) * 100"
   ]
  },
  {
   "cell_type": "code",
   "execution_count": 38,
   "metadata": {},
   "outputs": [],
   "source": [
    "def final_sMAPE(target, prediction):\n",
    "    Target = np.array(target)\n",
    "    Prediction = np.array(prediction)\n",
    "    final_smape = 0.25 * sMAPE(Target[0], Prediction[0]) + 0.75 * sMAPE(Target[1], Prediction[1])\n",
    "    \n",
    "    return final_smape"
   ]
  },
  {
   "cell_type": "markdown",
   "metadata": {},
   "source": [
    "* **3.2. Обучим разные модели и оценим их качество кросс-валидацией.**"
   ]
  },
  {
   "cell_type": "markdown",
   "metadata": {},
   "source": [
    "* **Зададим признаки для последующего обучения моделей:**"
   ]
  },
  {
   "cell_type": "markdown",
   "metadata": {},
   "source": [
    "Признаки, что есть в тестовой выборке:"
   ]
  },
  {
   "cell_type": "code",
   "execution_count": 39,
   "metadata": {},
   "outputs": [],
   "source": [
    "test_col = set(test.columns)"
   ]
  },
  {
   "cell_type": "markdown",
   "metadata": {},
   "source": [
    "Признаки, которых нет в общем (и обучающем) датасете:"
   ]
  },
  {
   "cell_type": "code",
   "execution_count": 40,
   "metadata": {},
   "outputs": [],
   "source": [
    "extra_ft = set(data.columns) - set(test.columns)"
   ]
  },
  {
   "cell_type": "markdown",
   "metadata": {},
   "source": [
    "Зададим для обучающей выборки целевой признак (эффективность обогащения руды на стадии флотации и на этапе очистки) и основные признаки (исключим недоступные признаки и дату):"
   ]
  },
  {
   "cell_type": "code",
   "execution_count": 41,
   "metadata": {},
   "outputs": [
    {
     "data": {
      "text/plain": [
       "((13653, 52), (13653, 2))"
      ]
     },
     "execution_count": 41,
     "metadata": {},
     "output_type": "execute_result"
    }
   ],
   "source": [
    "features_tr = train.drop(['date', *extra_ft], axis=1)\n",
    "target_tr = train.loc[:, ['rougher.output.recovery', 'final.output.recovery']]\n",
    "features_tr.shape, target_tr.shape"
   ]
  },
  {
   "cell_type": "markdown",
   "metadata": {},
   "source": [
    "Зададим для тестовой выборки признаки:"
   ]
  },
  {
   "cell_type": "markdown",
   "metadata": {},
   "source": [
    "Небольшая проблема в том, что в тестовой выборке отсутствуют целевые признаки. "
   ]
  },
  {
   "cell_type": "markdown",
   "metadata": {},
   "source": [
    "Посмотрим, какая доля строк в тестовой выборке присутствует в общей:"
   ]
  },
  {
   "cell_type": "code",
   "execution_count": 42,
   "metadata": {},
   "outputs": [
    {
     "data": {
      "text/plain": [
       "False    15084\n",
       "True      4518\n",
       "Name: date, dtype: int64"
      ]
     },
     "execution_count": 42,
     "metadata": {},
     "output_type": "execute_result"
    }
   ],
   "source": [
    "data['date'].isin(test['date']).value_counts()"
   ]
  },
  {
   "cell_type": "markdown",
   "metadata": {},
   "source": [
    "Теперь функцией **isin** зададим целевые признаки и объекты:"
   ]
  },
  {
   "cell_type": "code",
   "execution_count": 43,
   "metadata": {},
   "outputs": [
    {
     "data": {
      "text/plain": [
       "((4518, 52), (4518, 2))"
      ]
     },
     "execution_count": 43,
     "metadata": {},
     "output_type": "execute_result"
    }
   ],
   "source": [
    "features_test = data[data['date'].isin(test['date'])][test.columns].drop(columns=['date'])\n",
    "target_test = data[data['date'].isin(test['date'])].loc[:, ['rougher.output.recovery', 'final.output.recovery']]\n",
    "features_test.shape, target_test.shape"
   ]
  },
  {
   "cell_type": "markdown",
   "metadata": {},
   "source": [
    "* **Обучим разные модели и оценим их качество кросс-валидацией.**"
   ]
  },
  {
   "cell_type": "code",
   "execution_count": 44,
   "metadata": {},
   "outputs": [],
   "source": [
    "smape_score = make_scorer(final_sMAPE, greater_is_better=False)"
   ]
  },
  {
   "cell_type": "markdown",
   "metadata": {},
   "source": [
    "Обучим случайный лес в регрессии и подберём гиперпараметры:"
   ]
  },
  {
   "cell_type": "code",
   "execution_count": 45,
   "metadata": {},
   "outputs": [
    {
     "name": "stdout",
     "output_type": "stream",
     "text": [
      "-13.687700321401753\n",
      "-8.676952364950868\n",
      "-7.98650530459417\n",
      "-8.2539072761396\n",
      "-8.084209937664477\n",
      "-7.995375018432665\n",
      "-7.636970712022915\n",
      "-7.589341866095341\n",
      "-7.675104458018166\n"
     ]
    }
   ],
   "source": [
    "for est in range(1, 10):\n",
    "    model_Forest = RandomForestRegressor(random_state=12345, n_estimators=est)\n",
    "    CV_Forest = cross_val_score(model_Forest, features_tr, target_tr, cv=5, scoring=smape_score)\n",
    "    print(CV_Forest.mean())"
   ]
  },
  {
   "cell_type": "markdown",
   "metadata": {},
   "source": [
    "Обучим дерево решений в регрессии и подберём гиперпараметры:"
   ]
  },
  {
   "cell_type": "code",
   "execution_count": 46,
   "metadata": {},
   "outputs": [
    {
     "name": "stdout",
     "output_type": "stream",
     "text": [
      "-9.281768857772333\n",
      "-7.545451279160915\n",
      "-7.602916583396026\n",
      "-7.850508241693518\n",
      "-7.35107375256824\n",
      "-8.138656556344342\n",
      "-7.9434252239809835\n",
      "-8.19267746953413\n",
      "-8.383549075197541\n",
      "-8.018495693565427\n",
      "-10.833198227485632\n",
      "-8.290773937584232\n",
      "-8.619313160047827\n",
      "-8.320228144306364\n",
      "-17.70115399755927\n",
      "-8.206610451555088\n",
      "-8.831874300983406\n",
      "-10.30308226996774\n",
      "-16.569690922110418\n",
      "-7.44266515274707\n",
      "-9.92219731372297\n",
      "-8.746931819949438\n",
      "-7.770664969023959\n",
      "-17.542649012938767\n"
     ]
    }
   ],
   "source": [
    "for depth in range(1, 25):\n",
    "    model_tree = DecisionTreeRegressor(random_state=12345, max_depth=depth)\n",
    "    CV_tree = cross_val_score(model_tree, features_tr, target_tr, cv=5, scoring=smape_score)\n",
    "    print(CV_tree.mean())"
   ]
  },
  {
   "cell_type": "markdown",
   "metadata": {},
   "source": [
    "Обучим линейной регрессией:"
   ]
  },
  {
   "cell_type": "code",
   "execution_count": 47,
   "metadata": {},
   "outputs": [
    {
     "data": {
      "text/plain": [
       "-9.45124691604993"
      ]
     },
     "execution_count": 47,
     "metadata": {},
     "output_type": "execute_result"
    }
   ],
   "source": [
    "model_LR = LinearRegression()\n",
    "CV_LR = cross_val_score(model_LR, features_tr, target_tr, cv=5, scoring=smape_score)\n",
    "CV_LR.mean()"
   ]
  },
  {
   "cell_type": "markdown",
   "metadata": {},
   "source": [
    "Наименьшую ошибку мы получаем методом дерева решений в регрессии. "
   ]
  },
  {
   "cell_type": "markdown",
   "metadata": {},
   "source": [
    "* **3.2. Выбираем лучшую модель и проверяем её на тестовой выборке.**"
   ]
  },
  {
   "cell_type": "markdown",
   "metadata": {},
   "source": [
    "Лучшей моделью оказывается линейная регрессия. Проверим её на тестовой выборке и найдём окончательную метрику sMAPE:"
   ]
  },
  {
   "cell_type": "code",
   "execution_count": 48,
   "metadata": {},
   "outputs": [],
   "source": [
    "model_tree = DecisionTreeRegressor(random_state=12345, max_depth=5)\n",
    "model_tree.fit(features_tr, target_tr)\n",
    "predictions_tree = model_tree.predict(features_test)"
   ]
  },
  {
   "cell_type": "code",
   "execution_count": 49,
   "metadata": {},
   "outputs": [
    {
     "data": {
      "text/plain": [
       "2.573387134576362"
      ]
     },
     "execution_count": 49,
     "metadata": {},
     "output_type": "execute_result"
    }
   ],
   "source": [
    "final_sMAPE(target_test, predictions_tree)"
   ]
  },
  {
   "cell_type": "markdown",
   "metadata": {},
   "source": [
    "**ОСНОВНОЙ ВЫВОД:** \n",
    "* По результатам кросс-валидации лучшей моделью оказалось дерево решений в регрессии. Подобрали гиперпараметры. Лучший результат при глубине дерева **5**;\n",
    "* Получили на тестовой выборке итоговый **sMAPE = 2.57%**"
   ]
  }
 ],
 "metadata": {
  "kernelspec": {
   "display_name": "Python 3",
   "language": "python",
   "name": "python3"
  },
  "language_info": {
   "codemirror_mode": {
    "name": "ipython",
    "version": 3
   },
   "file_extension": ".py",
   "mimetype": "text/x-python",
   "name": "python",
   "nbconvert_exporter": "python",
   "pygments_lexer": "ipython3",
   "version": "3.8.8"
  },
  "toc": {
   "base_numbering": 1,
   "nav_menu": {},
   "number_sections": true,
   "sideBar": true,
   "skip_h1_title": true,
   "title_cell": "Table of Contents",
   "title_sidebar": "Contents",
   "toc_cell": false,
   "toc_position": {},
   "toc_section_display": true,
   "toc_window_display": false
  }
 },
 "nbformat": 4,
 "nbformat_minor": 2
}
