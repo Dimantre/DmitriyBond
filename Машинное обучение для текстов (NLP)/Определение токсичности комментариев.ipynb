{
 "cells": [
  {
   "cell_type": "markdown",
   "metadata": {
    "toc": true
   },
   "source": [
    "<h1>Содержание<span class=\"tocSkip\"></span></h1>\n",
    "<div class=\"toc\"><ul class=\"toc-item\"><li><span><a href=\"#Подготовка\" data-toc-modified-id=\"Подготовка-1\"><span class=\"toc-item-num\">1&nbsp;&nbsp;</span>Подготовка</a></span></li><li><span><a href=\"#Обучение\" data-toc-modified-id=\"Обучение-2\"><span class=\"toc-item-num\">2&nbsp;&nbsp;</span>Обучение</a></span></li><li><span><a href=\"#Чек-лист-проверки\" data-toc-modified-id=\"Чек-лист-проверки-3\"><span class=\"toc-item-num\">3&nbsp;&nbsp;</span>Чек-лист проверки</a></span></li><li><span><a href=\"#-Комментарий-ревьюера\" data-toc-modified-id=\"-Комментарий-ревьюера-4\"><span class=\"toc-item-num\">4&nbsp;&nbsp;</span> Комментарий ревьюера</a></span></li></ul></div>"
   ]
  },
  {
   "cell_type": "markdown",
   "metadata": {},
   "source": [
    "# Проект на определение токсичности комментариев"
   ]
  },
  {
   "cell_type": "markdown",
   "metadata": {},
   "source": [
    "Заказчику нужен инструмент, который будет искать токсичные комментарии и отправлять их на модерацию. \n",
    "\n",
    "Обучим модель классифицировать комментарии на позитивные и негативные. В нашем распоряжении набор данных с разметкой о токсичности правок.\n",
    "\n",
    "Задача: построить рабочую модель, оценив её качество значением метрики  *F1*. \n",
    "\n",
    "Данные находятся в файле `toxic_comments.csv`. Столбец *text* в нём содержит текст комментария, а *toxic* — целевой признак."
   ]
  },
  {
   "cell_type": "markdown",
   "metadata": {},
   "source": [
    "## Подготовка"
   ]
  },
  {
   "cell_type": "code",
   "execution_count": 1,
   "metadata": {},
   "outputs": [
    {
     "name": "stderr",
     "output_type": "stream",
     "text": [
      "[nltk_data] Downloading package averaged_perceptron_tagger to\n",
      "[nltk_data]     C:\\Users\\Димантре\\AppData\\Roaming\\nltk_data...\n",
      "[nltk_data]   Package averaged_perceptron_tagger is already up-to-\n",
      "[nltk_data]       date!\n",
      "[nltk_data] Downloading package punkt to\n",
      "[nltk_data]     C:\\Users\\Димантре\\AppData\\Roaming\\nltk_data...\n",
      "[nltk_data]   Package punkt is already up-to-date!\n",
      "[nltk_data] Downloading package wordnet to\n",
      "[nltk_data]     C:\\Users\\Димантре\\AppData\\Roaming\\nltk_data...\n",
      "[nltk_data]   Package wordnet is already up-to-date!\n"
     ]
    }
   ],
   "source": [
    "import pandas as pd\n",
    "import nltk\n",
    "from nltk.tokenize import RegexpTokenizer\n",
    "from nltk.stem import WordNetLemmatizer\n",
    "from nltk.corpus import wordnet\n",
    "from nltk.corpus import stopwords\n",
    "from tqdm import notebook\n",
    "nltk.download('averaged_perceptron_tagger')\n",
    "from sklearn.linear_model import LogisticRegression\n",
    "from sklearn.metrics import f1_score\n",
    "from nltk.corpus import stopwords as nltk_stopwords\n",
    "from sklearn.feature_extraction.text import TfidfVectorizer\n",
    "from sklearn.model_selection import train_test_split\n",
    "from sklearn.utils import shuffle\n",
    "nltk.download('punkt')\n",
    "nltk.download('wordnet')\n",
    "from sklearn.tree import DecisionTreeClassifier\n",
    "from sklearn.ensemble import RandomForestClassifier"
   ]
  },
  {
   "cell_type": "code",
   "execution_count": 2,
   "metadata": {},
   "outputs": [
    {
     "name": "stdout",
     "output_type": "stream",
     "text": [
      "<class 'pandas.core.frame.DataFrame'>\n",
      "RangeIndex: 159571 entries, 0 to 159570\n",
      "Data columns (total 2 columns):\n",
      " #   Column  Non-Null Count   Dtype \n",
      "---  ------  --------------   ----- \n",
      " 0   text    159571 non-null  object\n",
      " 1   toxic   159571 non-null  int64 \n",
      "dtypes: int64(1), object(1)\n",
      "memory usage: 2.4+ MB\n"
     ]
    }
   ],
   "source": [
    "df = pd.read_csv('C:/Users/Димантре/Desktop/Jupiter/toxic_comments.csv')\n",
    "df.info()"
   ]
  },
  {
   "cell_type": "markdown",
   "metadata": {},
   "source": [
    "Проверим на наличие дубликатов:"
   ]
  },
  {
   "cell_type": "code",
   "execution_count": 4,
   "metadata": {},
   "outputs": [
    {
     "data": {
      "text/plain": [
       "0"
      ]
     },
     "execution_count": 4,
     "metadata": {},
     "output_type": "execute_result"
    }
   ],
   "source": [
    "df.duplicated().sum()"
   ]
  },
  {
   "cell_type": "markdown",
   "metadata": {},
   "source": [
    "Исследуем баланс классов:"
   ]
  },
  {
   "cell_type": "code",
   "execution_count": 5,
   "metadata": {},
   "outputs": [
    {
     "name": "stdout",
     "output_type": "stream",
     "text": [
      "0    0.898321\n",
      "1    0.101679\n",
      "Name: toxic, dtype: float64\n"
     ]
    },
    {
     "data": {
      "text/plain": [
       "<AxesSubplot:>"
      ]
     },
     "execution_count": 5,
     "metadata": {},
     "output_type": "execute_result"
    },
    {
     "data": {
      "image/png": "[encoded data removed]",
      "text/plain": [
       "<Figure size 432x288 with 1 Axes>"
      ]
     },
     "metadata": {
      "needs_background": "light"
     },
     "output_type": "display_data"
    }
   ],
   "source": [
    "class_frequency = df['toxic'].value_counts(normalize=True)\n",
    "print(class_frequency)\n",
    "class_frequency.plot(kind='bar')"
   ]
  },
  {
   "cell_type": "markdown",
   "metadata": {},
   "source": [
    "У нас явный дисбаланс классов."
   ]
  },
  {
   "cell_type": "markdown",
   "metadata": {},
   "source": [
    "Напишем функцию для лемматизации:"
   ]
  },
  {
   "cell_type": "code",
   "execution_count": 6,
   "metadata": {},
   "outputs": [],
   "source": [
    "def get_wordnet_pos(word):\n",
    "    tag = nltk.pos_tag([word])[0][1][0].upper()\n",
    "    tag_dict = {\"J\": wordnet.ADJ,\n",
    "                \"N\": wordnet.NOUN,\n",
    "                \"V\": wordnet.VERB,\n",
    "                \"R\": wordnet.ADV}\n",
    "    return tag_dict.get(tag, wordnet.NOUN)\n",
    "\n",
    "lemmatizer = WordNetLemmatizer()"
   ]
  },
  {
   "cell_type": "code",
   "execution_count": 7,
   "metadata": {},
   "outputs": [
    {
     "data": {
      "application/vnd.jupyter.widget-view+json": {
       "model_id": "c154692c690b41c7a03a6c76a5ea8bd9",
       "version_major": 2,
       "version_minor": 0
      },
      "text/plain": [
       "  0%|          | 0/159571 [00:00<?, ?it/s]"
      ]
     },
     "metadata": {},
     "output_type": "display_data"
    },
    {
     "name": "stderr",
     "output_type": "stream",
     "text": [
      "<ipython-input-7-92dc58c3a36d>:2: SettingWithCopyWarning: \n",
      "A value is trying to be set on a copy of a slice from a DataFrame\n",
      "\n",
      "See the caveats in the documentation: https://pandas.pydata.org/pandas-docs/stable/user_guide/indexing.html#returning-a-view-versus-a-copy\n",
      "  df['text'][i] = \" \".join([lemmatizer.lemmatize(w, get_wordnet_pos(w)) for w in nltk.word_tokenize(df['text'][i])])\n"
     ]
    }
   ],
   "source": [
    "for i in notebook.tqdm(range(df.shape[0])):\n",
    "    df['text'][i] = \" \".join([lemmatizer.lemmatize(w, get_wordnet_pos(w)) for w in nltk.word_tokenize(df['text'][i])])"
   ]
  },
  {
   "cell_type": "markdown",
   "metadata": {},
   "source": [
    "## Обучение"
   ]
  },
  {
   "cell_type": "markdown",
   "metadata": {},
   "source": [
    "Разделим выборки на обучающую, валидационную и тестовую:"
   ]
  },
  {
   "cell_type": "code",
   "execution_count": 8,
   "metadata": {},
   "outputs": [],
   "source": [
    "data_train_valid, data_test = train_test_split(df, test_size=0.2, random_state=12345) "
   ]
  },
  {
   "cell_type": "code",
   "execution_count": 9,
   "metadata": {},
   "outputs": [],
   "source": [
    "data_train, data_valid = train_test_split(data_train_valid, test_size=0.25, random_state=12345) "
   ]
  },
  {
   "cell_type": "markdown",
   "metadata": {},
   "source": [
    "Увеличим обучающую выборку методом upsampling:"
   ]
  },
  {
   "cell_type": "markdown",
   "metadata": {},
   "source": [
    "Перемешаем данные:"
   ]
  },
  {
   "cell_type": "code",
   "execution_count": 10,
   "metadata": {},
   "outputs": [],
   "source": [
    "data_train = shuffle(data_train, random_state=12345)"
   ]
  },
  {
   "cell_type": "markdown",
   "metadata": {},
   "source": [
    "Проверим баланс классов:"
   ]
  },
  {
   "cell_type": "code",
   "execution_count": 11,
   "metadata": {},
   "outputs": [
    {
     "name": "stdout",
     "output_type": "stream",
     "text": [
      "0    0.899031\n",
      "1    0.100969\n",
      "Name: toxic, dtype: float64\n"
     ]
    },
    {
     "data": {
      "text/plain": [
       "<AxesSubplot:>"
      ]
     },
     "execution_count": 11,
     "metadata": {},
     "output_type": "execute_result"
    },
    {
     "data": {
      "image/png": "[encoded data removed]",
      "text/plain": [
       "<Figure size 432x288 with 1 Axes>"
      ]
     },
     "metadata": {
      "needs_background": "light"
     },
     "output_type": "display_data"
    }
   ],
   "source": [
    "class_frequency = data_train['toxic'].value_counts(normalize=True)\n",
    "print(class_frequency)\n",
    "class_frequency.plot(kind='bar')"
   ]
  },
  {
   "cell_type": "markdown",
   "metadata": {},
   "source": [
    "Всё хорошо! Баланс почти 1 к 1."
   ]
  },
  {
   "cell_type": "markdown",
   "metadata": {},
   "source": [
    "Сформируем матрицу признаков **tf_idf**:"
   ]
  },
  {
   "cell_type": "code",
   "execution_count": 12,
   "metadata": {},
   "outputs": [
    {
     "name": "stderr",
     "output_type": "stream",
     "text": [
      "[nltk_data] Downloading package stopwords to\n",
      "[nltk_data]     C:\\Users\\Димантре\\AppData\\Roaming\\nltk_data...\n",
      "[nltk_data]   Package stopwords is already up-to-date!\n"
     ]
    }
   ],
   "source": [
    "nltk.download('stopwords')\n",
    "\n",
    "stopwords = set(nltk_stopwords.words('english'))\n",
    "\n",
    "count_tf_idf = TfidfVectorizer(stop_words=stopwords)\n",
    "\n",
    "corpus_train = data_train['text'].values.astype('U')\n",
    "corpus_valid = data_valid['text'].values.astype('U')\n",
    "corpus_test = data_test['text'].values.astype('U')\n",
    "\n",
    "tf_idf_train = count_tf_idf.fit_transform(corpus_train)\n",
    "tf_idf_valid = count_tf_idf.transform(corpus_valid)\n",
    "tf_idf_test = count_tf_idf.transform(corpus_test)"
   ]
  },
  {
   "cell_type": "markdown",
   "metadata": {},
   "source": [
    "Сформируем признаки для обучения:"
   ]
  },
  {
   "cell_type": "code",
   "execution_count": 13,
   "metadata": {},
   "outputs": [],
   "source": [
    "features_train = tf_idf_train\n",
    "target_train = data_train['toxic']\n",
    "features_valid = tf_idf_valid\n",
    "target_valid = data_valid['toxic']\n",
    "features_test = tf_idf_test\n",
    "target_test = data_test['toxic']"
   ]
  },
  {
   "cell_type": "markdown",
   "metadata": {},
   "source": [
    "Обучим логистической регрессией и оценим F1-меру, варьируя параметром регуляризации **С**:"
   ]
  },
  {
   "cell_type": "code",
   "execution_count": 14,
   "metadata": {},
   "outputs": [
    {
     "name": "stdout",
     "output_type": "stream",
     "text": [
      "Inverse = 1 : 0.7421450351319103\n"
     ]
    },
    {
     "name": "stderr",
     "output_type": "stream",
     "text": [
      "E:\\soft\\Anaconda\\lib\\site-packages\\sklearn\\linear_model\\_logistic.py:763: ConvergenceWarning: lbfgs failed to converge (status=1):\n",
      "STOP: TOTAL NO. of ITERATIONS REACHED LIMIT.\n",
      "\n",
      "Increase the number of iterations (max_iter) or scale the data as shown in:\n",
      "    https://scikit-learn.org/stable/modules/preprocessing.html\n",
      "Please also refer to the documentation for alternative solver options:\n",
      "    https://scikit-learn.org/stable/modules/linear_model.html#logistic-regression\n",
      "  n_iter_i = _check_optimize_result(\n"
     ]
    },
    {
     "name": "stdout",
     "output_type": "stream",
     "text": [
      "Inverse = 2 : 0.7505758027367566\n"
     ]
    },
    {
     "name": "stderr",
     "output_type": "stream",
     "text": [
      "E:\\soft\\Anaconda\\lib\\site-packages\\sklearn\\linear_model\\_logistic.py:763: ConvergenceWarning: lbfgs failed to converge (status=1):\n",
      "STOP: TOTAL NO. of ITERATIONS REACHED LIMIT.\n",
      "\n",
      "Increase the number of iterations (max_iter) or scale the data as shown in:\n",
      "    https://scikit-learn.org/stable/modules/preprocessing.html\n",
      "Please also refer to the documentation for alternative solver options:\n",
      "    https://scikit-learn.org/stable/modules/linear_model.html#logistic-regression\n",
      "  n_iter_i = _check_optimize_result(\n"
     ]
    },
    {
     "name": "stdout",
     "output_type": "stream",
     "text": [
      "Inverse = 3 : 0.7534998627504805\n"
     ]
    },
    {
     "name": "stderr",
     "output_type": "stream",
     "text": [
      "E:\\soft\\Anaconda\\lib\\site-packages\\sklearn\\linear_model\\_logistic.py:763: ConvergenceWarning: lbfgs failed to converge (status=1):\n",
      "STOP: TOTAL NO. of ITERATIONS REACHED LIMIT.\n",
      "\n",
      "Increase the number of iterations (max_iter) or scale the data as shown in:\n",
      "    https://scikit-learn.org/stable/modules/preprocessing.html\n",
      "Please also refer to the documentation for alternative solver options:\n",
      "    https://scikit-learn.org/stable/modules/linear_model.html#logistic-regression\n",
      "  n_iter_i = _check_optimize_result(\n"
     ]
    },
    {
     "name": "stdout",
     "output_type": "stream",
     "text": [
      "Inverse = 4 : 0.7560603961767557\n"
     ]
    },
    {
     "name": "stderr",
     "output_type": "stream",
     "text": [
      "E:\\soft\\Anaconda\\lib\\site-packages\\sklearn\\linear_model\\_logistic.py:763: ConvergenceWarning: lbfgs failed to converge (status=1):\n",
      "STOP: TOTAL NO. of ITERATIONS REACHED LIMIT.\n",
      "\n",
      "Increase the number of iterations (max_iter) or scale the data as shown in:\n",
      "    https://scikit-learn.org/stable/modules/preprocessing.html\n",
      "Please also refer to the documentation for alternative solver options:\n",
      "    https://scikit-learn.org/stable/modules/linear_model.html#logistic-regression\n",
      "  n_iter_i = _check_optimize_result(\n"
     ]
    },
    {
     "name": "stdout",
     "output_type": "stream",
     "text": [
      "Inverse = 5 : 0.7573981016192072\n"
     ]
    },
    {
     "name": "stderr",
     "output_type": "stream",
     "text": [
      "E:\\soft\\Anaconda\\lib\\site-packages\\sklearn\\linear_model\\_logistic.py:763: ConvergenceWarning: lbfgs failed to converge (status=1):\n",
      "STOP: TOTAL NO. of ITERATIONS REACHED LIMIT.\n",
      "\n",
      "Increase the number of iterations (max_iter) or scale the data as shown in:\n",
      "    https://scikit-learn.org/stable/modules/preprocessing.html\n",
      "Please also refer to the documentation for alternative solver options:\n",
      "    https://scikit-learn.org/stable/modules/linear_model.html#logistic-regression\n",
      "  n_iter_i = _check_optimize_result(\n"
     ]
    },
    {
     "name": "stdout",
     "output_type": "stream",
     "text": [
      "Inverse = 6 : 0.7562342392827122\n"
     ]
    },
    {
     "name": "stderr",
     "output_type": "stream",
     "text": [
      "E:\\soft\\Anaconda\\lib\\site-packages\\sklearn\\linear_model\\_logistic.py:763: ConvergenceWarning: lbfgs failed to converge (status=1):\n",
      "STOP: TOTAL NO. of ITERATIONS REACHED LIMIT.\n",
      "\n",
      "Increase the number of iterations (max_iter) or scale the data as shown in:\n",
      "    https://scikit-learn.org/stable/modules/preprocessing.html\n",
      "Please also refer to the documentation for alternative solver options:\n",
      "    https://scikit-learn.org/stable/modules/linear_model.html#logistic-regression\n",
      "  n_iter_i = _check_optimize_result(\n"
     ]
    },
    {
     "name": "stdout",
     "output_type": "stream",
     "text": [
      "Inverse = 7 : 0.7575077182149873\n"
     ]
    },
    {
     "name": "stderr",
     "output_type": "stream",
     "text": [
      "E:\\soft\\Anaconda\\lib\\site-packages\\sklearn\\linear_model\\_logistic.py:763: ConvergenceWarning: lbfgs failed to converge (status=1):\n",
      "STOP: TOTAL NO. of ITERATIONS REACHED LIMIT.\n",
      "\n",
      "Increase the number of iterations (max_iter) or scale the data as shown in:\n",
      "    https://scikit-learn.org/stable/modules/preprocessing.html\n",
      "Please also refer to the documentation for alternative solver options:\n",
      "    https://scikit-learn.org/stable/modules/linear_model.html#logistic-regression\n",
      "  n_iter_i = _check_optimize_result(\n"
     ]
    },
    {
     "name": "stdout",
     "output_type": "stream",
     "text": [
      "Inverse = 8 : 0.7581054412179308\n"
     ]
    },
    {
     "name": "stderr",
     "output_type": "stream",
     "text": [
      "E:\\soft\\Anaconda\\lib\\site-packages\\sklearn\\linear_model\\_logistic.py:763: ConvergenceWarning: lbfgs failed to converge (status=1):\n",
      "STOP: TOTAL NO. of ITERATIONS REACHED LIMIT.\n",
      "\n",
      "Increase the number of iterations (max_iter) or scale the data as shown in:\n",
      "    https://scikit-learn.org/stable/modules/preprocessing.html\n",
      "Please also refer to the documentation for alternative solver options:\n",
      "    https://scikit-learn.org/stable/modules/linear_model.html#logistic-regression\n",
      "  n_iter_i = _check_optimize_result(\n"
     ]
    },
    {
     "name": "stdout",
     "output_type": "stream",
     "text": [
      "Inverse = 9 : 0.7560599691747234\n"
     ]
    },
    {
     "name": "stderr",
     "output_type": "stream",
     "text": [
      "E:\\soft\\Anaconda\\lib\\site-packages\\sklearn\\linear_model\\_logistic.py:763: ConvergenceWarning: lbfgs failed to converge (status=1):\n",
      "STOP: TOTAL NO. of ITERATIONS REACHED LIMIT.\n",
      "\n",
      "Increase the number of iterations (max_iter) or scale the data as shown in:\n",
      "    https://scikit-learn.org/stable/modules/preprocessing.html\n",
      "Please also refer to the documentation for alternative solver options:\n",
      "    https://scikit-learn.org/stable/modules/linear_model.html#logistic-regression\n",
      "  n_iter_i = _check_optimize_result(\n"
     ]
    },
    {
     "name": "stdout",
     "output_type": "stream",
     "text": [
      "Inverse = 10 : 0.7575971731448763\n"
     ]
    },
    {
     "name": "stderr",
     "output_type": "stream",
     "text": [
      "E:\\soft\\Anaconda\\lib\\site-packages\\sklearn\\linear_model\\_logistic.py:763: ConvergenceWarning: lbfgs failed to converge (status=1):\n",
      "STOP: TOTAL NO. of ITERATIONS REACHED LIMIT.\n",
      "\n",
      "Increase the number of iterations (max_iter) or scale the data as shown in:\n",
      "    https://scikit-learn.org/stable/modules/preprocessing.html\n",
      "Please also refer to the documentation for alternative solver options:\n",
      "    https://scikit-learn.org/stable/modules/linear_model.html#logistic-regression\n",
      "  n_iter_i = _check_optimize_result(\n"
     ]
    },
    {
     "name": "stdout",
     "output_type": "stream",
     "text": [
      "Inverse = 11 : 0.7579662937261012\n"
     ]
    },
    {
     "name": "stderr",
     "output_type": "stream",
     "text": [
      "E:\\soft\\Anaconda\\lib\\site-packages\\sklearn\\linear_model\\_logistic.py:763: ConvergenceWarning: lbfgs failed to converge (status=1):\n",
      "STOP: TOTAL NO. of ITERATIONS REACHED LIMIT.\n",
      "\n",
      "Increase the number of iterations (max_iter) or scale the data as shown in:\n",
      "    https://scikit-learn.org/stable/modules/preprocessing.html\n",
      "Please also refer to the documentation for alternative solver options:\n",
      "    https://scikit-learn.org/stable/modules/linear_model.html#logistic-regression\n",
      "  n_iter_i = _check_optimize_result(\n"
     ]
    },
    {
     "name": "stdout",
     "output_type": "stream",
     "text": [
      "Inverse = 12 : 0.759601706970128\n"
     ]
    },
    {
     "name": "stderr",
     "output_type": "stream",
     "text": [
      "E:\\soft\\Anaconda\\lib\\site-packages\\sklearn\\linear_model\\_logistic.py:763: ConvergenceWarning: lbfgs failed to converge (status=1):\n",
      "STOP: TOTAL NO. of ITERATIONS REACHED LIMIT.\n",
      "\n",
      "Increase the number of iterations (max_iter) or scale the data as shown in:\n",
      "    https://scikit-learn.org/stable/modules/preprocessing.html\n",
      "Please also refer to the documentation for alternative solver options:\n",
      "    https://scikit-learn.org/stable/modules/linear_model.html#logistic-regression\n",
      "  n_iter_i = _check_optimize_result(\n"
     ]
    },
    {
     "name": "stdout",
     "output_type": "stream",
     "text": [
      "Inverse = 13 : 0.7600570613409414\n"
     ]
    },
    {
     "name": "stderr",
     "output_type": "stream",
     "text": [
      "E:\\soft\\Anaconda\\lib\\site-packages\\sklearn\\linear_model\\_logistic.py:763: ConvergenceWarning: lbfgs failed to converge (status=1):\n",
      "STOP: TOTAL NO. of ITERATIONS REACHED LIMIT.\n",
      "\n",
      "Increase the number of iterations (max_iter) or scale the data as shown in:\n",
      "    https://scikit-learn.org/stable/modules/preprocessing.html\n",
      "Please also refer to the documentation for alternative solver options:\n",
      "    https://scikit-learn.org/stable/modules/linear_model.html#logistic-regression\n",
      "  n_iter_i = _check_optimize_result(\n"
     ]
    },
    {
     "name": "stdout",
     "output_type": "stream",
     "text": [
      "Inverse = 14 : 0.7606398171950871\n"
     ]
    },
    {
     "name": "stderr",
     "output_type": "stream",
     "text": [
      "E:\\soft\\Anaconda\\lib\\site-packages\\sklearn\\linear_model\\_logistic.py:763: ConvergenceWarning: lbfgs failed to converge (status=1):\n",
      "STOP: TOTAL NO. of ITERATIONS REACHED LIMIT.\n",
      "\n",
      "Increase the number of iterations (max_iter) or scale the data as shown in:\n",
      "    https://scikit-learn.org/stable/modules/preprocessing.html\n",
      "Please also refer to the documentation for alternative solver options:\n",
      "    https://scikit-learn.org/stable/modules/linear_model.html#logistic-regression\n",
      "  n_iter_i = _check_optimize_result(\n"
     ]
    },
    {
     "name": "stdout",
     "output_type": "stream",
     "text": [
      "Inverse = 15 : 0.7600285510349751\n"
     ]
    },
    {
     "name": "stderr",
     "output_type": "stream",
     "text": [
      "E:\\soft\\Anaconda\\lib\\site-packages\\sklearn\\linear_model\\_logistic.py:763: ConvergenceWarning: lbfgs failed to converge (status=1):\n",
      "STOP: TOTAL NO. of ITERATIONS REACHED LIMIT.\n",
      "\n",
      "Increase the number of iterations (max_iter) or scale the data as shown in:\n",
      "    https://scikit-learn.org/stable/modules/preprocessing.html\n",
      "Please also refer to the documentation for alternative solver options:\n",
      "    https://scikit-learn.org/stable/modules/linear_model.html#logistic-regression\n",
      "  n_iter_i = _check_optimize_result(\n"
     ]
    },
    {
     "name": "stdout",
     "output_type": "stream",
     "text": [
      "Inverse = 16 : 0.7594462070954716\n"
     ]
    },
    {
     "name": "stderr",
     "output_type": "stream",
     "text": [
      "E:\\soft\\Anaconda\\lib\\site-packages\\sklearn\\linear_model\\_logistic.py:763: ConvergenceWarning: lbfgs failed to converge (status=1):\n",
      "STOP: TOTAL NO. of ITERATIONS REACHED LIMIT.\n",
      "\n",
      "Increase the number of iterations (max_iter) or scale the data as shown in:\n",
      "    https://scikit-learn.org/stable/modules/preprocessing.html\n",
      "Please also refer to the documentation for alternative solver options:\n",
      "    https://scikit-learn.org/stable/modules/linear_model.html#logistic-regression\n",
      "  n_iter_i = _check_optimize_result(\n"
     ]
    },
    {
     "name": "stdout",
     "output_type": "stream",
     "text": [
      "Inverse = 17 : 0.7596209075244112\n"
     ]
    },
    {
     "name": "stderr",
     "output_type": "stream",
     "text": [
      "E:\\soft\\Anaconda\\lib\\site-packages\\sklearn\\linear_model\\_logistic.py:763: ConvergenceWarning: lbfgs failed to converge (status=1):\n",
      "STOP: TOTAL NO. of ITERATIONS REACHED LIMIT.\n",
      "\n",
      "Increase the number of iterations (max_iter) or scale the data as shown in:\n",
      "    https://scikit-learn.org/stable/modules/preprocessing.html\n",
      "Please also refer to the documentation for alternative solver options:\n",
      "    https://scikit-learn.org/stable/modules/linear_model.html#logistic-regression\n",
      "  n_iter_i = _check_optimize_result(\n"
     ]
    },
    {
     "name": "stdout",
     "output_type": "stream",
     "text": [
      "Inverse = 18 : 0.7591261856855419\n"
     ]
    },
    {
     "name": "stderr",
     "output_type": "stream",
     "text": [
      "E:\\soft\\Anaconda\\lib\\site-packages\\sklearn\\linear_model\\_logistic.py:763: ConvergenceWarning: lbfgs failed to converge (status=1):\n",
      "STOP: TOTAL NO. of ITERATIONS REACHED LIMIT.\n",
      "\n",
      "Increase the number of iterations (max_iter) or scale the data as shown in:\n",
      "    https://scikit-learn.org/stable/modules/preprocessing.html\n",
      "Please also refer to the documentation for alternative solver options:\n",
      "    https://scikit-learn.org/stable/modules/linear_model.html#logistic-regression\n",
      "  n_iter_i = _check_optimize_result(\n"
     ]
    },
    {
     "name": "stdout",
     "output_type": "stream",
     "text": [
      "Inverse = 19 : 0.7580250467827839\n"
     ]
    },
    {
     "name": "stderr",
     "output_type": "stream",
     "text": [
      "E:\\soft\\Anaconda\\lib\\site-packages\\sklearn\\linear_model\\_logistic.py:763: ConvergenceWarning: lbfgs failed to converge (status=1):\n",
      "STOP: TOTAL NO. of ITERATIONS REACHED LIMIT.\n",
      "\n",
      "Increase the number of iterations (max_iter) or scale the data as shown in:\n",
      "    https://scikit-learn.org/stable/modules/preprocessing.html\n",
      "Please also refer to the documentation for alternative solver options:\n",
      "    https://scikit-learn.org/stable/modules/linear_model.html#logistic-regression\n",
      "  n_iter_i = _check_optimize_result(\n"
     ]
    },
    {
     "name": "stdout",
     "output_type": "stream",
     "text": [
      "Inverse = 20 : 0.756787817842264\n"
     ]
    },
    {
     "name": "stderr",
     "output_type": "stream",
     "text": [
      "E:\\soft\\Anaconda\\lib\\site-packages\\sklearn\\linear_model\\_logistic.py:763: ConvergenceWarning: lbfgs failed to converge (status=1):\n",
      "STOP: TOTAL NO. of ITERATIONS REACHED LIMIT.\n",
      "\n",
      "Increase the number of iterations (max_iter) or scale the data as shown in:\n",
      "    https://scikit-learn.org/stable/modules/preprocessing.html\n",
      "Please also refer to the documentation for alternative solver options:\n",
      "    https://scikit-learn.org/stable/modules/linear_model.html#logistic-regression\n",
      "  n_iter_i = _check_optimize_result(\n"
     ]
    },
    {
     "name": "stdout",
     "output_type": "stream",
     "text": [
      "Inverse = 21 : 0.7585313174946005\n"
     ]
    },
    {
     "name": "stderr",
     "output_type": "stream",
     "text": [
      "E:\\soft\\Anaconda\\lib\\site-packages\\sklearn\\linear_model\\_logistic.py:763: ConvergenceWarning: lbfgs failed to converge (status=1):\n",
      "STOP: TOTAL NO. of ITERATIONS REACHED LIMIT.\n",
      "\n",
      "Increase the number of iterations (max_iter) or scale the data as shown in:\n",
      "    https://scikit-learn.org/stable/modules/preprocessing.html\n",
      "Please also refer to the documentation for alternative solver options:\n",
      "    https://scikit-learn.org/stable/modules/linear_model.html#logistic-regression\n",
      "  n_iter_i = _check_optimize_result(\n"
     ]
    },
    {
     "name": "stdout",
     "output_type": "stream",
     "text": [
      "Inverse = 22 : 0.7584318247333525\n"
     ]
    },
    {
     "name": "stderr",
     "output_type": "stream",
     "text": [
      "E:\\soft\\Anaconda\\lib\\site-packages\\sklearn\\linear_model\\_logistic.py:763: ConvergenceWarning: lbfgs failed to converge (status=1):\n",
      "STOP: TOTAL NO. of ITERATIONS REACHED LIMIT.\n",
      "\n",
      "Increase the number of iterations (max_iter) or scale the data as shown in:\n",
      "    https://scikit-learn.org/stable/modules/preprocessing.html\n",
      "Please also refer to the documentation for alternative solver options:\n",
      "    https://scikit-learn.org/stable/modules/linear_model.html#logistic-regression\n",
      "  n_iter_i = _check_optimize_result(\n"
     ]
    },
    {
     "name": "stdout",
     "output_type": "stream",
     "text": [
      "Inverse = 23 : 0.7581623808147934\n",
      "Inverse = 24 : 0.7581925797603579\n"
     ]
    },
    {
     "name": "stderr",
     "output_type": "stream",
     "text": [
      "E:\\soft\\Anaconda\\lib\\site-packages\\sklearn\\linear_model\\_logistic.py:763: ConvergenceWarning: lbfgs failed to converge (status=1):\n",
      "STOP: TOTAL NO. of ITERATIONS REACHED LIMIT.\n",
      "\n",
      "Increase the number of iterations (max_iter) or scale the data as shown in:\n",
      "    https://scikit-learn.org/stable/modules/preprocessing.html\n",
      "Please also refer to the documentation for alternative solver options:\n",
      "    https://scikit-learn.org/stable/modules/linear_model.html#logistic-regression\n",
      "  n_iter_i = _check_optimize_result(\n"
     ]
    }
   ],
   "source": [
    "for Inverse  in range(1, 25):\n",
    "    model_LR = LogisticRegression(random_state=12345, class_weight='balanced',  C=Inverse) \n",
    "    model_LR.fit(features_train, target_train) \n",
    "    predictions_LR = model_LR.predict(features_valid)\n",
    "    print(\"Inverse =\", Inverse, \": \", end='')\n",
    "    print(f1_score(target_valid, predictions_LR, average='binary'))"
   ]
  },
  {
   "cell_type": "markdown",
   "metadata": {},
   "source": [
    "Воспользуемся \"деревом решений\" и исследуем, как глубина дерева будет влиять на F1-меру:"
   ]
  },
  {
   "cell_type": "code",
   "execution_count": 15,
   "metadata": {},
   "outputs": [
    {
     "name": "stdout",
     "output_type": "stream",
     "text": [
      "max_depth = 1 : 0.36109750122488976\n",
      "max_depth = 2 : 0.4290044299370482\n",
      "max_depth = 3 : 0.4743850146693748\n",
      "max_depth = 4 : 0.5067715159458278\n",
      "max_depth = 5 : 0.5347862531433362\n",
      "max_depth = 6 : 0.54998943140985\n",
      "max_depth = 7 : 0.5725409836065574\n",
      "max_depth = 8 : 0.5854932690375728\n",
      "max_depth = 9 : 0.5976366913679152\n",
      "max_depth = 10 : 0.6060968320382546\n",
      "max_depth = 11 : 0.6185404339250493\n",
      "max_depth = 12 : 0.6252213259885894\n",
      "max_depth = 13 : 0.6256147944127484\n",
      "max_depth = 14 : 0.6347910592808552\n",
      "max_depth = 15 : 0.6428571428571428\n",
      "max_depth = 16 : 0.6465848042977743\n",
      "max_depth = 17 : 0.6487935656836461\n",
      "max_depth = 18 : 0.6552706552706552\n",
      "max_depth = 19 : 0.6534578014859973\n",
      "max_depth = 20 : 0.6601245518022267\n",
      "max_depth = 21 : 0.66854143232096\n",
      "max_depth = 22 : 0.6732268845154104\n",
      "max_depth = 23 : 0.6718808193668528\n",
      "max_depth = 24 : 0.6744835287548855\n"
     ]
    }
   ],
   "source": [
    "for depth in range(1, 25):\n",
    "    model1 = DecisionTreeClassifier(random_state=12345, max_depth=depth) \n",
    "    model1.fit(features_train, target_train) \n",
    "    predictions_valid1 = model1.predict(features_valid)\n",
    "    print(\"max_depth =\", depth, \": \", end='')\n",
    "    print(f1_score(target_valid, predictions_valid1, average='binary'))"
   ]
  },
  {
   "cell_type": "markdown",
   "metadata": {},
   "source": [
    "Воспользуемся \"Случайным лесом\" и исследуем, как количество деревьев будет влиять на F1-меру:"
   ]
  },
  {
   "cell_type": "code",
   "execution_count": 16,
   "metadata": {},
   "outputs": [
    {
     "name": "stdout",
     "output_type": "stream",
     "text": [
      "est = 1 : 0.5218469166408429\n",
      "est = 2 : 0.5348599468411368\n",
      "est = 3 : 0.652542372881356\n",
      "est = 4 : 0.6068747530620309\n",
      "est = 5 : 0.6646075581395349\n",
      "est = 6 : 0.6207573082205218\n",
      "est = 7 : 0.6748148148148148\n",
      "est = 8 : 0.6401714397038768\n",
      "est = 9 : 0.6843373493975904\n",
      "est = 10 : 0.6549050019387359\n",
      "est = 11 : 0.682890303257207\n",
      "est = 12 : 0.6662817551963048\n",
      "est = 13 : 0.6856607310215558\n",
      "est = 14 : 0.6621621621621622\n",
      "est = 15 : 0.6862302483069977\n",
      "est = 16 : 0.665896398998652\n",
      "est = 17 : 0.6892145809845923\n",
      "est = 18 : 0.6694898941289701\n",
      "est = 19 : 0.6896421845574388\n",
      "est = 20 : 0.6701328711727326\n",
      "est = 21 : 0.6864936541011554\n",
      "est = 22 : 0.6691077278859124\n",
      "est = 23 : 0.6860927152317882\n",
      "est = 24 : 0.668466730954677\n"
     ]
    }
   ],
   "source": [
    "for est in range(1, 25):\n",
    "    model2 = RandomForestClassifier(random_state=12345, n_estimators=est)\n",
    "    model2.fit(features_train, target_train)\n",
    "    predictions_valid2 = model2.predict(features_valid)\n",
    "    print(\"est =\", est, \": \", end='')\n",
    "    print(f1_score(target_valid, predictions_valid2, average='binary'))"
   ]
  },
  {
   "cell_type": "markdown",
   "metadata": {},
   "source": [
    "* А теперь на тестовой выборке оценим F1-меру с учётом подобранных гиперпараметров:"
   ]
  },
  {
   "cell_type": "markdown",
   "metadata": {},
   "source": [
    "На тестовой выборке применим логистическую регрессию c параметром регуляризации **С=14**:"
   ]
  },
  {
   "cell_type": "code",
   "execution_count": 17,
   "metadata": {},
   "outputs": [
    {
     "data": {
      "text/plain": [
       "0.7577676336327491"
      ]
     },
     "execution_count": 17,
     "metadata": {},
     "output_type": "execute_result"
    }
   ],
   "source": [
    "model_LR_test = LogisticRegression(random_state=12345, class_weight='balanced',  C=14) \n",
    "model_LR_test.fit(features_train, target_train) \n",
    "predictions = model_LR_test.predict(features_test)\n",
    "f1_score(target_test, predictions, average='binary')"
   ]
  },
  {
   "cell_type": "markdown",
   "metadata": {},
   "source": [
    "Воспользуемся \"деревом решений\" на тестовой выборке с глубиной **24**:"
   ]
  },
  {
   "cell_type": "code",
   "execution_count": 18,
   "metadata": {},
   "outputs": [
    {
     "data": {
      "text/plain": [
       "0.6629643814630409"
      ]
     },
     "execution_count": 18,
     "metadata": {},
     "output_type": "execute_result"
    }
   ],
   "source": [
    "model3 = DecisionTreeClassifier(random_state=12345, max_depth=24) \n",
    "model3.fit(features_train, target_train) \n",
    "predictions_test1 = model3.predict(features_test)\n",
    "f1_score(target_test, predictions_test1, average='binary')"
   ]
  },
  {
   "cell_type": "markdown",
   "metadata": {},
   "source": [
    "Воспользуемся \"Случайным лесом\" на тестовой выборке с количеством деревьев: **19**:"
   ]
  },
  {
   "cell_type": "code",
   "execution_count": 19,
   "metadata": {},
   "outputs": [
    {
     "data": {
      "text/plain": [
       "0.6863610205256089"
      ]
     },
     "execution_count": 19,
     "metadata": {},
     "output_type": "execute_result"
    }
   ],
   "source": [
    "model4 = RandomForestClassifier(random_state=12345, n_estimators=19)\n",
    "model4.fit(features_train, target_train) \n",
    "predictions_test2 = model4.predict(features_test)\n",
    "f1_score(target_test, predictions_test2, average='binary')"
   ]
  },
  {
   "cell_type": "markdown",
   "metadata": {},
   "source": [
    "Объеденим валидационный и обучающий датасеты, заново сформируем признаки, обучим и протестируем на тестовой выборке:"
   ]
  },
  {
   "cell_type": "code",
   "execution_count": 20,
   "metadata": {},
   "outputs": [],
   "source": [
    "df_zeros = data_train_valid.query('toxic == 0')\n",
    "df_ones = data_train_valid.query('toxic == 1')\n",
    "repeat = 9\n",
    "data_train_valid = pd.concat([df_zeros] + [df_ones] * repeat)\n",
    "data_train_valid = shuffle(data_train_valid, random_state=12345)\n",
    "\n",
    "\n",
    "corpus_train_valid = data_train_valid['text'].values.astype('U')\n",
    "corpus_test = data_test['text'].values.astype('U')\n",
    "tf_idf_train = count_tf_idf.fit_transform(corpus_train_valid)\n",
    "tf_idf_test = count_tf_idf.transform(corpus_test)\n",
    "\n",
    "features_train_valid = tf_idf_train\n",
    "target_train_valid = data_train_valid['toxic']\n",
    "features_test = tf_idf_test\n",
    "target_test = data_test['toxic']"
   ]
  },
  {
   "cell_type": "code",
   "execution_count": 21,
   "metadata": {},
   "outputs": [
    {
     "name": "stderr",
     "output_type": "stream",
     "text": [
      "E:\\soft\\Anaconda\\lib\\site-packages\\sklearn\\linear_model\\_logistic.py:763: ConvergenceWarning: lbfgs failed to converge (status=1):\n",
      "STOP: TOTAL NO. of ITERATIONS REACHED LIMIT.\n",
      "\n",
      "Increase the number of iterations (max_iter) or scale the data as shown in:\n",
      "    https://scikit-learn.org/stable/modules/preprocessing.html\n",
      "Please also refer to the documentation for alternative solver options:\n",
      "    https://scikit-learn.org/stable/modules/linear_model.html#logistic-regression\n",
      "  n_iter_i = _check_optimize_result(\n"
     ]
    },
    {
     "data": {
      "text/plain": [
       "0.7508392935337906"
      ]
     },
     "execution_count": 21,
     "metadata": {},
     "output_type": "execute_result"
    }
   ],
   "source": [
    "model_LR = LogisticRegression(random_state=12345, class_weight='balanced', C=14.0)\n",
    "model_LR.fit(features_train_valid, target_train_valid)\n",
    "predictions_LR = model_LR.predict(features_test)\n",
    "f1_score(target_test, predictions_LR, average='binary')"
   ]
  },
  {
   "cell_type": "markdown",
   "metadata": {},
   "source": [
    "**ВЫВОД:** \n",
    "* На валидационной выборке логистической регрессией получили f1=0.76 при параметре С=14;\n",
    "* На валидационной выборке деревом решений получили f1=0.674 при глубине дерева: 24;\n",
    "* На валидационной выборке случайным лесом получили f1=0.690 при количестве деревьев: 19;\n",
    "* На тестовой выборке из трёх моделей с подобранными гиперпараметрами наилучший результат получили логистической регрессией с параметром С=14;\n",
    "* Добились следующего значения **F1-меры: 0,758**. "
   ]
  }
 ],
 "metadata": {
  "ExecuteTimeLog": [
   {
    "duration": 561,
    "start_time": "2021-06-08T20:02:51.940Z"
   },
   {
    "duration": 801,
    "start_time": "2021-06-08T20:02:56.004Z"
   },
   {
    "duration": 788,
    "start_time": "2021-06-08T20:02:56.808Z"
   },
   {
    "duration": 24,
    "start_time": "2021-06-08T20:03:04.142Z"
   },
   {
    "duration": 795,
    "start_time": "2021-06-09T13:10:54.851Z"
   },
   {
    "duration": 778,
    "start_time": "2021-06-09T13:10:57.683Z"
   },
   {
    "duration": 20,
    "start_time": "2021-06-09T13:11:05.227Z"
   },
   {
    "duration": 775,
    "start_time": "2021-06-09T13:11:49.181Z"
   },
   {
    "duration": 10,
    "start_time": "2021-06-09T13:11:49.959Z"
   },
   {
    "duration": 9,
    "start_time": "2021-06-09T13:11:53.950Z"
   },
   {
    "duration": 110,
    "start_time": "2021-06-09T13:12:26.724Z"
   },
   {
    "duration": 4,
    "start_time": "2021-06-09T13:12:34.192Z"
   },
   {
    "duration": 790,
    "start_time": "2021-06-09T13:12:34.366Z"
   },
   {
    "duration": 10,
    "start_time": "2021-06-09T13:12:35.158Z"
   },
   {
    "duration": 4,
    "start_time": "2021-06-09T13:12:35.171Z"
   },
   {
    "duration": 112,
    "start_time": "2021-06-09T13:12:36.190Z"
   },
   {
    "duration": 126,
    "start_time": "2021-06-09T13:12:51.709Z"
   },
   {
    "duration": 104,
    "start_time": "2021-06-09T13:13:15.934Z"
   },
   {
    "duration": 4,
    "start_time": "2021-06-09T13:13:21.775Z"
   },
   {
    "duration": 779,
    "start_time": "2021-06-09T13:13:21.935Z"
   },
   {
    "duration": 10,
    "start_time": "2021-06-09T13:13:22.716Z"
   },
   {
    "duration": 6,
    "start_time": "2021-06-09T13:13:22.728Z"
   },
   {
    "duration": 113,
    "start_time": "2021-06-09T13:13:24.158Z"
   },
   {
    "duration": 8,
    "start_time": "2021-06-09T13:14:10.670Z"
   },
   {
    "duration": 6,
    "start_time": "2021-06-09T13:14:22.488Z"
   },
   {
    "duration": 13,
    "start_time": "2021-06-09T13:14:33.512Z"
   },
   {
    "duration": 5,
    "start_time": "2021-06-09T13:14:35.602Z"
   },
   {
    "duration": 5,
    "start_time": "2021-06-09T13:17:36.843Z"
   },
   {
    "duration": 106,
    "start_time": "2021-06-09T13:17:36.988Z"
   },
   {
    "duration": 957,
    "start_time": "2021-06-09T13:17:37.164Z"
   },
   {
    "duration": 6,
    "start_time": "2021-06-09T13:17:38.349Z"
   },
   {
    "duration": 107,
    "start_time": "2021-06-09T13:17:51.195Z"
   },
   {
    "duration": 15,
    "start_time": "2021-06-09T13:18:06.828Z"
   },
   {
    "duration": 106,
    "start_time": "2021-06-09T13:19:05.946Z"
   },
   {
    "duration": 118,
    "start_time": "2021-06-09T13:19:07.966Z"
   },
   {
    "duration": 136,
    "start_time": "2021-06-09T13:19:23.894Z"
   },
   {
    "duration": 114,
    "start_time": "2021-06-09T13:20:20.690Z"
   },
   {
    "duration": 767,
    "start_time": "2021-06-09T13:20:27.431Z"
   },
   {
    "duration": 114,
    "start_time": "2021-06-09T13:21:03.016Z"
   },
   {
    "duration": 111,
    "start_time": "2021-06-09T13:21:18.699Z"
   },
   {
    "duration": 930,
    "start_time": "2021-06-09T13:21:24.640Z"
   },
   {
    "duration": 103,
    "start_time": "2021-06-09T13:21:58.690Z"
   },
   {
    "duration": 958,
    "start_time": "2021-06-09T13:22:13.848Z"
   },
   {
    "duration": 964,
    "start_time": "2021-06-09T13:22:32.009Z"
   },
   {
    "duration": 955,
    "start_time": "2021-06-09T13:22:50.963Z"
   },
   {
    "duration": 331,
    "start_time": "2021-06-09T13:36:22.898Z"
   },
   {
    "duration": 809,
    "start_time": "2021-06-09T13:36:26.938Z"
   },
   {
    "duration": 828,
    "start_time": "2021-06-09T13:36:27.750Z"
   },
   {
    "duration": 9,
    "start_time": "2021-06-09T13:36:28.581Z"
   },
   {
    "duration": 4,
    "start_time": "2021-06-09T13:36:29.611Z"
   },
   {
    "duration": 2032,
    "start_time": "2021-06-09T13:36:50.673Z"
   },
   {
    "duration": 5,
    "start_time": "2021-06-09T13:37:02.106Z"
   },
   {
    "duration": 145,
    "start_time": "2021-06-09T13:37:36.195Z"
   },
   {
    "duration": 6,
    "start_time": "2021-06-09T13:37:40.491Z"
   },
   {
    "duration": 5,
    "start_time": "2021-06-09T13:37:49.973Z"
   },
   {
    "duration": 6,
    "start_time": "2021-06-09T13:37:54.818Z"
   },
   {
    "duration": 6,
    "start_time": "2021-06-09T13:39:19.371Z"
   },
   {
    "duration": 4,
    "start_time": "2021-06-09T13:39:24.957Z"
   },
   {
    "duration": 1145,
    "start_time": "2021-06-09T13:39:25.117Z"
   },
   {
    "duration": 24,
    "start_time": "2021-06-09T13:39:26.265Z"
   },
   {
    "duration": 9,
    "start_time": "2021-06-09T13:39:26.292Z"
   },
   {
    "duration": 381,
    "start_time": "2021-06-09T13:39:26.513Z"
   },
   {
    "duration": 6,
    "start_time": "2021-06-09T13:39:36.357Z"
   },
   {
    "duration": 108,
    "start_time": "2021-06-09T13:39:52.179Z"
   },
   {
    "duration": 6,
    "start_time": "2021-06-09T13:39:55.311Z"
   },
   {
    "duration": 6,
    "start_time": "2021-06-09T13:40:10.925Z"
   },
   {
    "duration": 600,
    "start_time": "2021-06-09T13:53:01.249Z"
   },
   {
    "duration": 4,
    "start_time": "2021-06-09T13:53:05.620Z"
   },
   {
    "duration": 806,
    "start_time": "2021-06-09T13:53:06.531Z"
   },
   {
    "duration": 9,
    "start_time": "2021-06-09T13:53:07.340Z"
   },
   {
    "duration": 554,
    "start_time": "2021-06-09T13:53:07.363Z"
   },
   {
    "duration": 4,
    "start_time": "2021-06-09T13:54:10.614Z"
   },
   {
    "duration": 799,
    "start_time": "2021-06-09T13:54:10.766Z"
   },
   {
    "duration": 11,
    "start_time": "2021-06-09T13:54:11.567Z"
   },
   {
    "duration": 588,
    "start_time": "2021-06-09T13:54:11.582Z"
   },
   {
    "duration": 232288,
    "start_time": "2021-06-09T13:50:19.885Z"
   },
   {
    "duration": 900,
    "start_time": "2021-06-09T13:54:41.343Z"
   },
   {
    "duration": 5,
    "start_time": "2021-06-09T13:57:47.307Z"
   },
   {
    "duration": 716,
    "start_time": "2021-06-09T14:02:01.031Z"
   },
   {
    "duration": 6,
    "start_time": "2021-06-09T14:02:44.305Z"
   },
   {
    "duration": 4,
    "start_time": "2021-06-09T14:03:27.497Z"
   },
   {
    "duration": 783,
    "start_time": "2021-06-09T14:03:27.664Z"
   },
   {
    "duration": 13,
    "start_time": "2021-06-09T14:03:28.450Z"
   },
   {
    "duration": 7,
    "start_time": "2021-06-09T14:03:29.192Z"
   },
   {
    "duration": 10797,
    "start_time": "2021-06-09T14:03:29.372Z"
   },
   {
    "duration": 4,
    "start_time": "2021-06-09T14:05:00.411Z"
   },
   {
    "duration": 797,
    "start_time": "2021-06-09T14:05:00.600Z"
   },
   {
    "duration": 9,
    "start_time": "2021-06-09T14:05:01.399Z"
   },
   {
    "duration": 41,
    "start_time": "2021-06-09T14:05:01.411Z"
   },
   {
    "duration": 9820,
    "start_time": "2021-06-09T14:05:01.491Z"
   },
   {
    "duration": 1504,
    "start_time": "2021-06-09T20:11:42.478Z"
   },
   {
    "duration": 751,
    "start_time": "2021-06-09T20:11:43.985Z"
   },
   {
    "duration": 24,
    "start_time": "2021-06-09T20:11:44.739Z"
   },
   {
    "duration": 8,
    "start_time": "2021-06-09T20:11:46.646Z"
   },
   {
    "duration": 1119,
    "start_time": "2021-06-09T20:11:47.461Z"
   },
   {
    "duration": 87,
    "start_time": "2021-06-09T20:22:04.992Z"
   },
   {
    "duration": 1058,
    "start_time": "2021-06-09T20:22:06.023Z"
   },
   {
    "duration": 13,
    "start_time": "2021-06-09T20:22:07.085Z"
   },
   {
    "duration": 12,
    "start_time": "2021-06-09T20:22:07.102Z"
   },
   {
    "duration": 1560,
    "start_time": "2021-06-09T20:22:07.118Z"
   },
   {
    "duration": 7,
    "start_time": "2021-06-09T20:26:00.791Z"
   },
   {
    "duration": 1503,
    "start_time": "2021-06-09T20:26:02.028Z"
   },
   {
    "duration": 9053,
    "start_time": "2021-06-09T20:28:23.957Z"
   },
   {
    "duration": 1525,
    "start_time": "2021-06-09T20:29:14.110Z"
   },
   {
    "duration": 987,
    "start_time": "2021-06-09T20:40:40.983Z"
   },
   {
    "duration": 15,
    "start_time": "2021-06-09T20:41:33.008Z"
   },
   {
    "duration": 1053,
    "start_time": "2021-06-09T20:41:33.168Z"
   },
   {
    "duration": 13,
    "start_time": "2021-06-09T20:41:34.224Z"
   },
   {
    "duration": 9,
    "start_time": "2021-06-09T20:41:36.041Z"
   },
   {
    "duration": 9684,
    "start_time": "2021-06-09T20:41:41.272Z"
   },
   {
    "duration": 15225967,
    "start_time": "2021-06-09T20:41:57.715Z"
   },
   {
    "duration": 114,
    "start_time": "2021-06-10T00:55:43.685Z"
   },
   {
    "duration": 2810,
    "start_time": "2021-06-10T10:35:59.576Z"
   },
   {
    "duration": 4,
    "start_time": "2021-06-10T10:36:02.389Z"
   },
   {
    "duration": 824,
    "start_time": "2021-06-10T10:36:02.400Z"
   },
   {
    "duration": 12,
    "start_time": "2021-06-10T10:36:03.226Z"
   },
   {
    "duration": 9,
    "start_time": "2021-06-10T10:36:03.519Z"
   },
   {
    "duration": 7,
    "start_time": "2021-06-10T10:36:05.744Z"
   },
   {
    "duration": 56416,
    "start_time": "2021-06-10T10:36:06.532Z"
   },
   {
    "duration": 2581,
    "start_time": "2021-06-10T15:19:51.003Z"
   },
   {
    "duration": 4,
    "start_time": "2021-06-10T15:19:53.586Z"
   },
   {
    "duration": 6716,
    "start_time": "2021-06-10T15:19:53.592Z"
   },
   {
    "duration": 12,
    "start_time": "2021-06-10T15:20:00.311Z"
   },
   {
    "duration": 30,
    "start_time": "2021-06-10T15:20:00.325Z"
   },
   {
    "duration": 23,
    "start_time": "2021-06-10T15:20:00.358Z"
   },
   {
    "duration": 2724,
    "start_time": "2021-06-10T15:20:00.384Z"
   },
   {
    "duration": 406,
    "start_time": "2021-06-10T15:42:35.907Z"
   },
   {
    "duration": 8,
    "start_time": "2021-06-10T15:42:53.578Z"
   },
   {
    "duration": 8,
    "start_time": "2021-06-10T15:42:57.066Z"
   },
   {
    "duration": 1006,
    "start_time": "2021-06-10T15:42:57.676Z"
   },
   {
    "duration": 16,
    "start_time": "2021-06-10T15:43:06.191Z"
   },
   {
    "duration": 4,
    "start_time": "2021-06-10T15:43:06.287Z"
   },
   {
    "duration": 751,
    "start_time": "2021-06-10T15:43:07.263Z"
   },
   {
    "duration": 9,
    "start_time": "2021-06-10T15:43:08.017Z"
   },
   {
    "duration": 25,
    "start_time": "2021-06-10T15:43:08.029Z"
   },
   {
    "duration": 8,
    "start_time": "2021-06-10T15:43:08.057Z"
   },
   {
    "duration": 984,
    "start_time": "2021-06-10T15:43:08.067Z"
   },
   {
    "duration": 7,
    "start_time": "2021-06-10T15:43:26.196Z"
   },
   {
    "duration": 803,
    "start_time": "2021-06-10T15:43:26.515Z"
   },
   {
    "duration": 8,
    "start_time": "2021-06-10T15:44:31.676Z"
   },
   {
    "duration": 651,
    "start_time": "2021-06-10T15:44:32.278Z"
   },
   {
    "duration": 8,
    "start_time": "2021-06-10T15:44:53.581Z"
   },
   {
    "duration": 691,
    "start_time": "2021-06-10T15:44:53.928Z"
   },
   {
    "duration": 7,
    "start_time": "2021-06-10T15:45:12.670Z"
   },
   {
    "duration": 830,
    "start_time": "2021-06-10T15:45:12.838Z"
   },
   {
    "duration": 6,
    "start_time": "2021-06-10T15:45:13.744Z"
   },
   {
    "duration": 7,
    "start_time": "2021-06-10T15:51:12.821Z"
   },
   {
    "duration": 776,
    "start_time": "2021-06-10T15:51:12.978Z"
   },
   {
    "duration": 10,
    "start_time": "2021-06-10T15:55:09.171Z"
   },
   {
    "duration": 10,
    "start_time": "2021-06-10T15:56:01.450Z"
   },
   {
    "duration": 11,
    "start_time": "2021-06-10T15:56:14.557Z"
   },
   {
    "duration": 11,
    "start_time": "2021-06-10T15:56:17.458Z"
   },
   {
    "duration": 10,
    "start_time": "2021-06-10T15:56:21.339Z"
   },
   {
    "duration": 11,
    "start_time": "2021-06-10T15:56:25.706Z"
   },
   {
    "duration": 11,
    "start_time": "2021-06-10T15:56:29.874Z"
   },
   {
    "duration": 6,
    "start_time": "2021-06-10T16:01:21.327Z"
   },
   {
    "duration": 510,
    "start_time": "2021-06-10T16:07:26.219Z"
   },
   {
    "duration": 551,
    "start_time": "2021-06-10T16:07:36.145Z"
   },
   {
    "duration": 551,
    "start_time": "2021-06-10T16:07:45.382Z"
   },
   {
    "duration": 188,
    "start_time": "2021-06-10T16:08:00.632Z"
   },
   {
    "duration": 10,
    "start_time": "2021-06-10T16:08:12.545Z"
   },
   {
    "duration": 6,
    "start_time": "2021-06-10T16:08:49.670Z"
   },
   {
    "duration": 6,
    "start_time": "2021-06-10T16:09:27.795Z"
   },
   {
    "duration": 749,
    "start_time": "2021-06-10T16:09:28.492Z"
   },
   {
    "duration": 26,
    "start_time": "2021-06-10T16:09:30.070Z"
   },
   {
    "duration": 10,
    "start_time": "2021-06-10T16:09:35.987Z"
   },
   {
    "duration": 6152,
    "start_time": "2021-06-10T16:09:39.736Z"
   },
   {
    "duration": 234384,
    "start_time": "2021-06-10T16:05:51.506Z"
   },
   {
    "duration": 14,
    "start_time": "2021-06-10T16:10:09.355Z"
   },
   {
    "duration": 732,
    "start_time": "2021-06-10T16:10:21.506Z"
   },
   {
    "duration": 25,
    "start_time": "2021-06-10T16:10:23.246Z"
   },
   {
    "duration": 9,
    "start_time": "2021-06-10T16:10:23.920Z"
   },
   {
    "duration": 6014,
    "start_time": "2021-06-10T16:10:25.530Z"
   },
   {
    "duration": 234449,
    "start_time": "2021-06-10T16:06:37.098Z"
   },
   {
    "duration": 254,
    "start_time": "2021-06-10T16:11:02.440Z"
   },
   {
    "duration": 5,
    "start_time": "2021-06-10T16:11:05.108Z"
   },
   {
    "duration": 6330,
    "start_time": "2021-06-10T16:11:54.018Z"
   },
   {
    "duration": 5,
    "start_time": "2021-06-10T16:12:20.065Z"
   },
   {
    "duration": 7347,
    "start_time": "2021-06-10T16:12:20.882Z"
   },
   {
    "duration": 206,
    "start_time": "2021-06-10T16:13:30.816Z"
   },
   {
    "duration": 9,
    "start_time": "2021-06-10T16:13:33.907Z"
   },
   {
    "duration": 269,
    "start_time": "2021-06-10T16:20:00.758Z"
   },
   {
    "duration": 766,
    "start_time": "2021-06-10T16:20:01.030Z"
   },
   {
    "duration": 24,
    "start_time": "2021-06-10T16:20:01.798Z"
   },
   {
    "duration": 57,
    "start_time": "2021-06-10T16:20:01.824Z"
   },
   {
    "duration": 52,
    "start_time": "2021-06-10T16:20:01.884Z"
   },
   {
    "duration": 1545,
    "start_time": "2021-06-10T16:20:02.725Z"
   },
   {
    "duration": 14,
    "start_time": "2021-06-10T16:20:10.370Z"
   },
   {
    "duration": 6,
    "start_time": "2021-06-10T16:23:18.270Z"
   },
   {
    "duration": 757,
    "start_time": "2021-06-10T16:23:18.288Z"
   },
   {
    "duration": 28,
    "start_time": "2021-06-10T16:23:19.048Z"
   },
   {
    "duration": 29,
    "start_time": "2021-06-10T16:23:19.079Z"
   },
   {
    "duration": 5,
    "start_time": "2021-06-10T16:23:19.258Z"
   },
   {
    "duration": 1638,
    "start_time": "2021-06-10T16:23:19.278Z"
   },
   {
    "duration": 12,
    "start_time": "2021-06-10T16:23:20.918Z"
   },
   {
    "duration": 7,
    "start_time": "2021-06-10T16:24:28.777Z"
   },
   {
    "duration": 5,
    "start_time": "2021-06-10T16:24:43.079Z"
   },
   {
    "duration": 6,
    "start_time": "2021-06-10T16:25:12.183Z"
   },
   {
    "duration": 737,
    "start_time": "2021-06-10T16:25:12.200Z"
   },
   {
    "duration": 32,
    "start_time": "2021-06-10T16:25:12.940Z"
   },
   {
    "duration": 14,
    "start_time": "2021-06-10T16:25:12.975Z"
   },
   {
    "duration": 5,
    "start_time": "2021-06-10T16:25:15.002Z"
   },
   {
    "duration": 6319,
    "start_time": "2021-06-10T16:25:16.390Z"
   },
   {
    "duration": 6,
    "start_time": "2021-06-10T16:25:37.146Z"
   },
   {
    "duration": 744,
    "start_time": "2021-06-10T16:25:37.174Z"
   },
   {
    "duration": 35,
    "start_time": "2021-06-10T16:25:37.921Z"
   },
   {
    "duration": 27,
    "start_time": "2021-06-10T16:25:37.959Z"
   },
   {
    "duration": 6,
    "start_time": "2021-06-10T16:25:39.406Z"
   },
   {
    "duration": 15594,
    "start_time": "2021-06-10T16:25:41.138Z"
   },
   {
    "duration": 6,
    "start_time": "2021-06-10T16:26:46.032Z"
   },
   {
    "duration": 15,
    "start_time": "2021-06-10T16:26:55.823Z"
   },
   {
    "duration": 535,
    "start_time": "2021-06-10T16:27:15.013Z"
   },
   {
    "duration": 255,
    "start_time": "2021-06-10T16:27:23.593Z"
   },
   {
    "duration": 8,
    "start_time": "2021-06-10T16:28:10.778Z"
   },
   {
    "duration": 242,
    "start_time": "2021-06-10T16:28:20.987Z"
   },
   {
    "duration": 10,
    "start_time": "2021-06-10T16:28:37.701Z"
   },
   {
    "duration": 141,
    "start_time": "2021-06-10T16:28:46.972Z"
   },
   {
    "duration": 238,
    "start_time": "2021-06-10T16:28:51.129Z"
   },
   {
    "duration": 7,
    "start_time": "2021-06-10T16:29:25.645Z"
   },
   {
    "duration": 7,
    "start_time": "2021-06-10T16:29:30.534Z"
   },
   {
    "duration": 14,
    "start_time": "2021-06-10T16:29:31.855Z"
   },
   {
    "duration": 11,
    "start_time": "2021-06-10T16:29:33.336Z"
   },
   {
    "duration": 6,
    "start_time": "2021-06-10T16:29:54.325Z"
   },
   {
    "duration": 125,
    "start_time": "2021-06-10T16:30:07.994Z"
   },
   {
    "duration": 7,
    "start_time": "2021-06-10T16:30:09.338Z"
   },
   {
    "duration": 14,
    "start_time": "2021-06-10T16:30:09.785Z"
   },
   {
    "duration": 11,
    "start_time": "2021-06-10T16:30:10.291Z"
   },
   {
    "duration": 129,
    "start_time": "2021-06-10T16:30:51.928Z"
   },
   {
    "duration": 7,
    "start_time": "2021-06-10T16:30:53.017Z"
   },
   {
    "duration": 16,
    "start_time": "2021-06-10T16:30:53.721Z"
   },
   {
    "duration": 9,
    "start_time": "2021-06-10T16:30:54.625Z"
   },
   {
    "duration": 5,
    "start_time": "2021-06-10T16:31:24.777Z"
   },
   {
    "duration": 261,
    "start_time": "2021-06-10T16:31:33.314Z"
   },
   {
    "duration": 261,
    "start_time": "2021-06-10T16:31:38.330Z"
   },
   {
    "duration": 237,
    "start_time": "2021-06-10T16:31:49.568Z"
   },
   {
    "duration": 69,
    "start_time": "2021-06-10T16:32:13.814Z"
   },
   {
    "duration": 2391,
    "start_time": "2021-06-11T08:11:25.881Z"
   },
   {
    "duration": 693,
    "start_time": "2021-06-11T08:11:28.274Z"
   },
   {
    "duration": 6235,
    "start_time": "2021-06-11T08:11:28.970Z"
   },
   {
    "duration": 309,
    "start_time": "2021-06-11T08:11:47.127Z"
   },
   {
    "duration": 28,
    "start_time": "2021-06-11T08:15:22.454Z"
   },
   {
    "duration": 80,
    "start_time": "2021-06-11T08:15:51.985Z"
   },
   {
    "duration": 379,
    "start_time": "2021-06-11T08:16:56.157Z"
   },
   {
    "duration": 14,
    "start_time": "2021-06-11T08:17:15.952Z"
   },
   {
    "duration": 262,
    "start_time": "2021-06-11T08:18:00.959Z"
   },
   {
    "duration": 14,
    "start_time": "2021-06-11T08:19:14.904Z"
   },
   {
    "duration": 907,
    "start_time": "2021-06-11T08:19:15.956Z"
   },
   {
    "duration": 205,
    "start_time": "2021-06-11T08:19:16.867Z"
   },
   {
    "duration": 25,
    "start_time": "2021-06-11T08:19:17.874Z"
   },
   {
    "duration": 14,
    "start_time": "2021-06-11T08:19:19.190Z"
   },
   {
    "duration": 48,
    "start_time": "2021-06-11T08:19:19.420Z"
   },
   {
    "duration": 51,
    "start_time": "2021-06-11T08:19:31.701Z"
   },
   {
    "duration": 206,
    "start_time": "2021-06-11T08:20:08.372Z"
   },
   {
    "duration": 191,
    "start_time": "2021-06-11T08:20:23.164Z"
   },
   {
    "duration": 20,
    "start_time": "2021-06-11T08:20:25.319Z"
   },
   {
    "duration": 14,
    "start_time": "2021-06-11T08:20:27.128Z"
   },
   {
    "duration": 5,
    "start_time": "2021-06-11T08:20:37.966Z"
   },
   {
    "duration": 15809,
    "start_time": "2021-06-11T08:20:40.775Z"
   },
   {
    "duration": 266,
    "start_time": "2021-06-11T08:20:58.700Z"
   },
   {
    "duration": 270,
    "start_time": "2021-06-11T08:21:09.104Z"
   },
   {
    "duration": 130,
    "start_time": "2021-06-11T08:21:23.886Z"
   },
   {
    "duration": 50,
    "start_time": "2021-06-11T08:21:26.403Z"
   },
   {
    "duration": 7,
    "start_time": "2021-06-11T08:21:27.588Z"
   },
   {
    "duration": 13,
    "start_time": "2021-06-11T08:21:28.582Z"
   },
   {
    "duration": 8,
    "start_time": "2021-06-11T08:21:29.118Z"
   },
   {
    "duration": 1696,
    "start_time": "2021-06-11T08:23:09.530Z"
   },
   {
    "duration": 710,
    "start_time": "2021-06-11T08:23:11.232Z"
   },
   {
    "duration": 306,
    "start_time": "2021-06-11T08:23:11.945Z"
   },
   {
    "duration": 25,
    "start_time": "2021-06-11T08:23:12.255Z"
   },
   {
    "duration": 18,
    "start_time": "2021-06-11T08:23:12.282Z"
   },
   {
    "duration": 79,
    "start_time": "2021-06-11T08:23:12.302Z"
   },
   {
    "duration": 46,
    "start_time": "2021-06-11T08:23:12.383Z"
   },
   {
    "duration": 272,
    "start_time": "2021-06-11T08:23:12.432Z"
   },
   {
    "duration": 23,
    "start_time": "2021-06-11T08:23:12.707Z"
   },
   {
    "duration": 30,
    "start_time": "2021-06-11T08:23:12.732Z"
   },
   {
    "duration": 9,
    "start_time": "2021-06-11T08:23:12.764Z"
   },
   {
    "duration": 142542,
    "start_time": "2021-06-11T08:23:12.775Z"
   },
   {
    "duration": 1114,
    "start_time": "2021-06-11T08:25:35.319Z"
   },
   {
    "duration": 22,
    "start_time": "2021-06-11T08:25:36.435Z"
   },
   {
    "duration": 1997,
    "start_time": "2021-06-11T08:25:36.459Z"
   },
   {
    "duration": 10,
    "start_time": "2021-06-11T08:25:38.459Z"
   },
   {
    "duration": 8,
    "start_time": "2021-06-11T08:39:44.199Z"
   },
   {
    "duration": 8,
    "start_time": "2021-06-11T08:41:09.582Z"
   },
   {
    "duration": 389,
    "start_time": "2021-06-11T08:43:40.429Z"
   },
   {
    "duration": 872,
    "start_time": "2021-06-11T08:44:01.386Z"
   },
   {
    "duration": 32,
    "start_time": "2021-06-11T08:44:55.392Z"
   },
   {
    "duration": 9492,
    "start_time": "2021-06-11T08:45:39.543Z"
   },
   {
    "duration": 43873,
    "start_time": "2021-06-11T08:46:19.176Z"
   },
   {
    "duration": 19,
    "start_time": "2021-06-11T08:50:27.934Z"
   },
   {
    "duration": 18,
    "start_time": "2021-06-11T08:51:33.016Z"
   },
   {
    "duration": 188,
    "start_time": "2021-06-11T08:51:49.199Z"
   },
   {
    "duration": 7,
    "start_time": "2021-06-11T08:52:01.342Z"
   },
   {
    "duration": 726,
    "start_time": "2021-06-11T08:52:02.504Z"
   },
   {
    "duration": 258,
    "start_time": "2021-06-11T08:52:06.158Z"
   },
   {
    "duration": 185,
    "start_time": "2021-06-11T08:52:20.025Z"
   },
   {
    "duration": 38,
    "start_time": "2021-06-11T08:52:24.855Z"
   },
   {
    "duration": 15,
    "start_time": "2021-06-11T08:52:25.894Z"
   },
   {
    "duration": 45,
    "start_time": "2021-06-11T08:52:26.872Z"
   },
   {
    "duration": 50,
    "start_time": "2021-06-11T08:52:27.975Z"
   },
   {
    "duration": 187,
    "start_time": "2021-06-11T08:52:56.635Z"
   },
   {
    "duration": 23,
    "start_time": "2021-06-11T08:52:57.844Z"
   },
   {
    "duration": 12,
    "start_time": "2021-06-11T08:53:15.058Z"
   },
   {
    "duration": 5,
    "start_time": "2021-06-11T08:53:17.664Z"
   },
   {
    "duration": 133155,
    "start_time": "2021-06-11T08:53:19.472Z"
   },
   {
    "duration": 1332,
    "start_time": "2021-06-11T08:55:32.630Z"
   },
   {
    "duration": 4,
    "start_time": "2021-06-11T08:56:26.891Z"
   },
   {
    "duration": 8,
    "start_time": "2021-06-11T08:56:28.474Z"
   },
   {
    "duration": 8,
    "start_time": "2021-06-11T08:56:29.488Z"
   },
   {
    "duration": 1001,
    "start_time": "2021-06-11T08:57:10.457Z"
   },
   {
    "duration": 9571,
    "start_time": "2021-06-11T08:57:29.909Z"
   },
   {
    "duration": 43947,
    "start_time": "2021-06-11T08:58:00.650Z"
   },
   {
    "duration": 845,
    "start_time": "2021-06-11T08:59:48.516Z"
   },
   {
    "duration": 693,
    "start_time": "2021-06-11T09:02:55.523Z"
   },
   {
    "duration": 3262,
    "start_time": "2021-06-11T09:04:46.506Z"
   },
   {
    "duration": 15,
    "start_time": "2021-06-11T09:09:30.577Z"
   },
   {
    "duration": 11,
    "start_time": "2021-06-11T09:09:32.335Z"
   },
   {
    "duration": 15,
    "start_time": "2021-06-11T09:09:33.531Z"
   },
   {
    "duration": 328,
    "start_time": "2021-06-11T09:09:37.195Z"
   },
   {
    "duration": 5,
    "start_time": "2021-06-11T09:11:54.833Z"
   },
   {
    "duration": 3821,
    "start_time": "2021-06-11T09:11:55.491Z"
   },
   {
    "duration": 8,
    "start_time": "2021-06-11T09:12:13.044Z"
   },
   {
    "duration": 674,
    "start_time": "2021-06-11T09:12:13.713Z"
   },
   {
    "duration": 255,
    "start_time": "2021-06-11T09:12:16.147Z"
   },
   {
    "duration": 181,
    "start_time": "2021-06-11T09:12:16.668Z"
   },
   {
    "duration": 38,
    "start_time": "2021-06-11T09:12:17.269Z"
   },
   {
    "duration": 17,
    "start_time": "2021-06-11T09:12:17.466Z"
   },
   {
    "duration": 11,
    "start_time": "2021-06-11T09:12:17.871Z"
   },
   {
    "duration": 15,
    "start_time": "2021-06-11T09:12:18.080Z"
   },
   {
    "duration": 191,
    "start_time": "2021-06-11T09:12:18.511Z"
   },
   {
    "duration": 5,
    "start_time": "2021-06-11T09:12:19.791Z"
   },
   {
    "duration": 3937,
    "start_time": "2021-06-11T09:12:20.684Z"
   },
   {
    "duration": 29,
    "start_time": "2021-06-11T09:13:03.857Z"
   },
   {
    "duration": 21,
    "start_time": "2021-06-11T09:15:44.717Z"
   },
   {
    "duration": 18,
    "start_time": "2021-06-11T09:16:15.143Z"
   },
   {
    "duration": 19,
    "start_time": "2021-06-11T09:16:37.638Z"
   },
   {
    "duration": 6133,
    "start_time": "2021-06-11T09:17:03.698Z"
   },
   {
    "duration": 7,
    "start_time": "2021-06-11T09:17:11.239Z"
   },
   {
    "duration": 714,
    "start_time": "2021-06-11T09:17:11.623Z"
   },
   {
    "duration": 281,
    "start_time": "2021-06-11T09:17:12.339Z"
   },
   {
    "duration": 223,
    "start_time": "2021-06-11T09:17:12.624Z"
   },
   {
    "duration": 43,
    "start_time": "2021-06-11T09:17:13.132Z"
   },
   {
    "duration": 17,
    "start_time": "2021-06-11T09:17:13.321Z"
   },
   {
    "duration": 11,
    "start_time": "2021-06-11T09:17:13.692Z"
   },
   {
    "duration": 15,
    "start_time": "2021-06-11T09:17:13.899Z"
   },
   {
    "duration": 189,
    "start_time": "2021-06-11T09:17:14.872Z"
   },
   {
    "duration": 13,
    "start_time": "2021-06-11T09:17:15.248Z"
   },
   {
    "duration": 6238,
    "start_time": "2021-06-11T09:17:16.327Z"
   },
   {
    "duration": 235434,
    "start_time": "2021-06-11T09:13:27.134Z"
   },
   {
    "duration": 235432,
    "start_time": "2021-06-11T09:13:27.137Z"
   },
   {
    "duration": 17,
    "start_time": "2021-06-11T09:17:32.811Z"
   },
   {
    "duration": 5,
    "start_time": "2021-06-11T09:17:35.180Z"
   },
   {
    "duration": 452186,
    "start_time": "2021-06-11T09:17:35.788Z"
   },
   {
    "duration": 4338,
    "start_time": "2021-06-11T09:25:07.977Z"
   },
   {
    "duration": 3,
    "start_time": "2021-06-11T09:25:12.319Z"
   },
   {
    "duration": 36,
    "start_time": "2021-06-11T09:25:12.325Z"
   },
   {
    "duration": 15,
    "start_time": "2021-06-11T09:25:12.363Z"
   },
   {
    "duration": 3680,
    "start_time": "2021-06-11T09:25:12.380Z"
   },
   {
    "duration": 43438,
    "start_time": "2021-06-11T09:25:16.063Z"
   },
   {
    "duration": 279269,
    "start_time": "2021-06-11T09:25:59.504Z"
   },
   {
    "duration": 241,
    "start_time": "2021-06-11T09:30:38.775Z"
   },
   {
    "duration": 235453,
    "start_time": "2021-06-11T09:26:43.566Z"
   },
   {
    "duration": 235452,
    "start_time": "2021-06-11T09:26:43.568Z"
   },
   {
    "duration": 12,
    "start_time": "2021-06-11T09:31:59.881Z"
   },
   {
    "duration": 2946,
    "start_time": "2021-06-11T09:32:08.392Z"
   },
   {
    "duration": 19339,
    "start_time": "2021-06-11T09:32:11.340Z"
   },
   {
    "duration": 2586,
    "start_time": "2021-06-12T12:06:16.461Z"
   },
   {
    "duration": 799,
    "start_time": "2021-06-12T12:06:19.782Z"
   },
   {
    "duration": 312,
    "start_time": "2021-06-12T12:06:21.218Z"
   },
   {
    "duration": 359,
    "start_time": "2021-06-12T12:06:24.369Z"
   },
   {
    "duration": 7,
    "start_time": "2021-06-12T12:06:59.405Z"
   },
   {
    "duration": 3117962,
    "start_time": "2021-06-12T12:07:01.074Z"
   },
   {
    "duration": 439,
    "start_time": "2021-06-12T12:59:35.250Z"
   },
   {
    "duration": 31,
    "start_time": "2021-06-12T12:59:39.469Z"
   },
   {
    "duration": 25,
    "start_time": "2021-06-12T12:59:40.166Z"
   },
   {
    "duration": 32,
    "start_time": "2021-06-12T12:59:41.127Z"
   },
   {
    "duration": 8,
    "start_time": "2021-06-12T12:59:41.988Z"
   },
   {
    "duration": 205,
    "start_time": "2021-06-12T12:59:42.712Z"
   },
   {
    "duration": 11717,
    "start_time": "2021-06-12T12:59:45.294Z"
   },
   {
    "duration": 5,
    "start_time": "2021-06-12T12:59:59.014Z"
   },
   {
    "duration": 5296,
    "start_time": "2021-06-12T13:00:00.656Z"
   },
   {
    "duration": 417,
    "start_time": "2021-06-12T13:00:14.528Z"
   },
   {
    "duration": 5,
    "start_time": "2021-06-12T13:04:19.932Z"
   },
   {
    "duration": 6,
    "start_time": "2021-06-12T13:04:32.256Z"
   },
   {
    "duration": 6,
    "start_time": "2021-06-12T13:04:32.407Z"
   },
   {
    "duration": 4556,
    "start_time": "2021-06-12T13:30:58.757Z"
   },
   {
    "duration": 360,
    "start_time": "2021-06-12T13:31:13.325Z"
   },
   {
    "duration": 835,
    "start_time": "2021-06-12T13:31:16.540Z"
   },
   {
    "duration": 263,
    "start_time": "2021-06-12T13:31:20.421Z"
   },
   {
    "duration": 2972,
    "start_time": "2021-06-12T13:31:21.852Z"
   },
   {
    "duration": 11906,
    "start_time": "2021-06-12T13:31:29.083Z"
   },
   {
    "duration": 4493,
    "start_time": "2021-06-12T13:35:33.134Z"
   },
   {
    "duration": 34,
    "start_time": "2021-06-12T13:35:53.702Z"
   },
   {
    "duration": 26,
    "start_time": "2021-06-12T13:35:53.878Z"
   },
   {
    "duration": 35,
    "start_time": "2021-06-12T13:35:54.270Z"
   },
   {
    "duration": 12,
    "start_time": "2021-06-12T13:35:54.663Z"
   },
   {
    "duration": 214,
    "start_time": "2021-06-12T13:35:55.070Z"
   },
   {
    "duration": 327,
    "start_time": "2021-06-12T13:36:20.139Z"
   },
   {
    "duration": 1911,
    "start_time": "2021-06-12T13:38:31.762Z"
   },
   {
    "duration": 868,
    "start_time": "2021-06-12T13:38:33.676Z"
   },
   {
    "duration": 27,
    "start_time": "2021-06-12T13:38:34.556Z"
   },
   {
    "duration": 18,
    "start_time": "2021-06-12T13:38:34.586Z"
   },
   {
    "duration": 464,
    "start_time": "2021-06-12T13:38:34.606Z"
   },
   {
    "duration": 5,
    "start_time": "2021-06-12T13:38:35.072Z"
   },
   {
    "duration": 36583,
    "start_time": "2021-06-12T13:38:35.079Z"
   },
   {
    "duration": 7,
    "start_time": "2021-06-12T13:39:11.666Z"
   },
   {
    "duration": 5,
    "start_time": "2021-06-12T13:39:11.677Z"
   },
   {
    "duration": 13,
    "start_time": "2021-06-12T13:39:11.685Z"
   },
   {
    "duration": 10,
    "start_time": "2021-06-12T13:39:11.700Z"
   },
   {
    "duration": 254,
    "start_time": "2021-06-12T13:39:11.712Z"
   },
   {
    "duration": 159,
    "start_time": "2021-06-12T13:39:11.969Z"
   },
   {
    "duration": 4,
    "start_time": "2021-06-12T13:39:12.131Z"
   },
   {
    "duration": 30,
    "start_time": "2021-06-12T13:39:12.138Z"
   },
   {
    "duration": 6,
    "start_time": "2021-06-12T13:39:12.171Z"
   },
   {
    "duration": 8,
    "start_time": "2021-06-12T13:39:12.180Z"
   },
   {
    "duration": 380,
    "start_time": "2021-06-12T13:39:12.192Z"
   },
   {
    "duration": 297,
    "start_time": "2021-06-12T13:42:43.528Z"
   },
   {
    "duration": 261,
    "start_time": "2021-06-12T13:42:54.194Z"
   },
   {
    "duration": 8,
    "start_time": "2021-06-12T13:45:51.913Z"
   },
   {
    "duration": 6,
    "start_time": "2021-06-12T13:46:07.609Z"
   },
   {
    "duration": 8,
    "start_time": "2021-06-12T13:46:12.423Z"
   },
   {
    "duration": 11,
    "start_time": "2021-06-12T13:46:31.328Z"
   },
   {
    "duration": 298,
    "start_time": "2021-06-12T13:46:35.858Z"
   },
   {
    "duration": 274,
    "start_time": "2021-06-12T13:46:41.567Z"
   },
   {
    "duration": 2525,
    "start_time": "2021-06-12T16:12:15.248Z"
   },
   {
    "duration": 794,
    "start_time": "2021-06-12T16:12:17.783Z"
   },
   {
    "duration": 26,
    "start_time": "2021-06-12T16:12:18.580Z"
   },
   {
    "duration": 22,
    "start_time": "2021-06-12T16:12:18.609Z"
   },
   {
    "duration": 357,
    "start_time": "2021-06-12T16:12:18.634Z"
   },
   {
    "duration": 5,
    "start_time": "2021-06-12T16:12:18.994Z"
   },
   {
    "duration": 29471,
    "start_time": "2021-06-12T16:12:19.001Z"
   },
   {
    "duration": 11,
    "start_time": "2021-06-12T16:12:48.476Z"
   },
   {
    "duration": 8,
    "start_time": "2021-06-12T16:12:48.490Z"
   },
   {
    "duration": 12,
    "start_time": "2021-06-12T16:12:48.500Z"
   },
   {
    "duration": 5,
    "start_time": "2021-06-12T16:12:48.515Z"
   },
   {
    "duration": 271,
    "start_time": "2021-06-12T16:12:48.522Z"
   },
   {
    "duration": 136,
    "start_time": "2021-06-12T16:12:48.795Z"
   },
   {
    "duration": 5,
    "start_time": "2021-06-12T16:12:48.934Z"
   },
   {
    "duration": 10,
    "start_time": "2021-06-12T16:12:48.941Z"
   },
   {
    "duration": 30,
    "start_time": "2021-06-12T16:12:48.953Z"
   },
   {
    "duration": 5,
    "start_time": "2021-06-12T16:12:48.985Z"
   },
   {
    "duration": 414,
    "start_time": "2021-06-12T16:12:48.992Z"
   },
   {
    "duration": 237567,
    "start_time": "2021-06-12T16:08:51.842Z"
   },
   {
    "duration": 237567,
    "start_time": "2021-06-12T16:08:51.844Z"
   },
   {
    "duration": 237565,
    "start_time": "2021-06-12T16:08:51.847Z"
   },
   {
    "duration": 237565,
    "start_time": "2021-06-12T16:08:51.848Z"
   },
   {
    "duration": 237565,
    "start_time": "2021-06-12T16:08:51.850Z"
   },
   {
    "duration": 1712,
    "start_time": "2021-06-12T16:13:25.051Z"
   },
   {
    "duration": 829,
    "start_time": "2021-06-12T16:13:26.766Z"
   },
   {
    "duration": 22,
    "start_time": "2021-06-12T16:13:27.598Z"
   },
   {
    "duration": 19,
    "start_time": "2021-06-12T16:13:27.623Z"
   },
   {
    "duration": 333,
    "start_time": "2021-06-12T16:13:27.644Z"
   },
   {
    "duration": 5,
    "start_time": "2021-06-12T16:13:27.982Z"
   },
   {
    "duration": 31481,
    "start_time": "2021-06-12T16:13:27.990Z"
   },
   {
    "duration": 7,
    "start_time": "2021-06-12T16:13:59.484Z"
   },
   {
    "duration": 10,
    "start_time": "2021-06-12T16:13:59.493Z"
   },
   {
    "duration": 17,
    "start_time": "2021-06-12T16:13:59.505Z"
   },
   {
    "duration": 18,
    "start_time": "2021-06-12T16:13:59.524Z"
   },
   {
    "duration": 245,
    "start_time": "2021-06-12T16:13:59.545Z"
   },
   {
    "duration": 130,
    "start_time": "2021-06-12T16:13:59.792Z"
   },
   {
    "duration": 5,
    "start_time": "2021-06-12T16:13:59.924Z"
   },
   {
    "duration": 9,
    "start_time": "2021-06-12T16:13:59.931Z"
   },
   {
    "duration": 6,
    "start_time": "2021-06-12T16:13:59.943Z"
   },
   {
    "duration": 34,
    "start_time": "2021-06-12T16:13:59.951Z"
   },
   {
    "duration": 13,
    "start_time": "2021-06-12T16:13:59.988Z"
   },
   {
    "duration": 331,
    "start_time": "2021-06-12T16:14:00.004Z"
   },
   {
    "duration": 1039,
    "start_time": "2021-06-12T16:14:00.337Z"
   },
   {
    "duration": 10,
    "start_time": "2021-06-12T16:14:01.384Z"
   },
   {
    "duration": 34,
    "start_time": "2021-06-12T16:14:01.397Z"
   },
   {
    "duration": 93,
    "start_time": "2021-06-12T16:14:01.437Z"
   },
   {
    "duration": 20,
    "start_time": "2021-06-12T16:18:55.592Z"
   },
   {
    "duration": 50,
    "start_time": "2021-06-12T16:18:56.638Z"
   },
   {
    "duration": 21,
    "start_time": "2021-06-12T16:19:07.130Z"
   },
   {
    "duration": 43,
    "start_time": "2021-06-12T16:19:07.856Z"
   },
   {
    "duration": 48,
    "start_time": "2021-06-12T16:19:18.584Z"
   },
   {
    "duration": 1752,
    "start_time": "2021-06-12T16:19:39.550Z"
   },
   {
    "duration": 732,
    "start_time": "2021-06-12T16:19:41.305Z"
   },
   {
    "duration": 24,
    "start_time": "2021-06-12T16:19:42.040Z"
   },
   {
    "duration": 62,
    "start_time": "2021-06-12T16:19:42.068Z"
   },
   {
    "duration": 312,
    "start_time": "2021-06-12T16:19:42.132Z"
   },
   {
    "duration": 4,
    "start_time": "2021-06-12T16:19:42.447Z"
   },
   {
    "duration": 231534,
    "start_time": "2021-06-12T16:19:42.454Z"
   },
   {
    "duration": 12,
    "start_time": "2021-06-12T16:23:33.991Z"
   },
   {
    "duration": 8,
    "start_time": "2021-06-12T16:23:34.009Z"
   },
   {
    "duration": 13,
    "start_time": "2021-06-12T16:23:34.020Z"
   },
   {
    "duration": 7,
    "start_time": "2021-06-12T16:23:34.082Z"
   },
   {
    "duration": 223,
    "start_time": "2021-06-12T16:23:34.091Z"
   },
   {
    "duration": 967,
    "start_time": "2021-06-12T16:23:34.317Z"
   },
   {
    "duration": 5,
    "start_time": "2021-06-12T16:23:35.287Z"
   },
   {
    "duration": 9,
    "start_time": "2021-06-12T16:23:35.295Z"
   },
   {
    "duration": 11,
    "start_time": "2021-06-12T16:23:35.307Z"
   },
   {
    "duration": 7,
    "start_time": "2021-06-12T16:23:35.321Z"
   },
   {
    "duration": 263,
    "start_time": "2021-06-12T16:23:35.331Z"
   },
   {
    "duration": 2004,
    "start_time": "2021-06-12T16:23:35.683Z"
   },
   {
    "duration": 4569,
    "start_time": "2021-06-12T16:23:37.690Z"
   },
   {
    "duration": 8,
    "start_time": "2021-06-12T16:23:42.261Z"
   },
   {
    "duration": 126,
    "start_time": "2021-06-12T16:23:42.283Z"
   },
   {
    "duration": 245,
    "start_time": "2021-06-12T16:23:42.411Z"
   },
   {
    "duration": 6,
    "start_time": "2021-06-12T16:24:16.054Z"
   },
   {
    "duration": 720,
    "start_time": "2021-06-12T16:24:16.589Z"
   },
   {
    "duration": 285,
    "start_time": "2021-06-12T16:24:18.481Z"
   },
   {
    "duration": 180,
    "start_time": "2021-06-12T16:24:20.459Z"
   },
   {
    "duration": 5,
    "start_time": "2021-06-12T16:24:31.774Z"
   },
   {
    "duration": 2819151,
    "start_time": "2021-06-12T16:24:32.302Z"
   },
   {
    "duration": 31,
    "start_time": "2021-06-12T17:11:47.297Z"
   },
   {
    "duration": 25,
    "start_time": "2021-06-12T17:11:48.068Z"
   },
   {
    "duration": 34,
    "start_time": "2021-06-12T17:11:49.035Z"
   },
   {
    "duration": 9,
    "start_time": "2021-06-12T17:11:49.707Z"
   },
   {
    "duration": 195,
    "start_time": "2021-06-12T17:11:50.339Z"
   },
   {
    "duration": 11253,
    "start_time": "2021-06-12T17:11:52.519Z"
   },
   {
    "duration": 10,
    "start_time": "2021-06-12T17:12:03.775Z"
   },
   {
    "duration": 4698,
    "start_time": "2021-06-12T17:12:03.789Z"
   },
   {
    "duration": 237641,
    "start_time": "2021-06-12T17:08:10.849Z"
   },
   {
    "duration": 237640,
    "start_time": "2021-06-12T17:08:10.851Z"
   },
   {
    "duration": 237640,
    "start_time": "2021-06-12T17:08:10.853Z"
   },
   {
    "duration": 237638,
    "start_time": "2021-06-12T17:08:10.856Z"
   },
   {
    "duration": 237638,
    "start_time": "2021-06-12T17:08:10.858Z"
   },
   {
    "duration": 29827,
    "start_time": "2021-06-12T17:12:39.150Z"
   },
   {
    "duration": 161350,
    "start_time": "2021-06-12T17:13:08.983Z"
   },
   {
    "duration": 4696,
    "start_time": "2021-06-12T17:15:50.336Z"
   },
   {
    "duration": 1543,
    "start_time": "2021-06-12T17:16:05.413Z"
   },
   {
    "duration": 8606,
    "start_time": "2021-06-12T17:16:08.493Z"
   },
   {
    "duration": 10939,
    "start_time": "2021-06-12T17:16:24.647Z"
   },
   {
    "duration": 4444,
    "start_time": "2021-06-12T17:17:12.912Z"
   },
   {
    "duration": 3583,
    "start_time": "2021-06-12T17:18:23.513Z"
   },
   {
    "duration": 19,
    "start_time": "2021-06-12T17:18:35.844Z"
   },
   {
    "duration": 572,
    "start_time": "2021-06-12T17:19:40.590Z"
   },
   {
    "duration": 290,
    "start_time": "2021-06-12T17:19:48.589Z"
   },
   {
    "duration": 11108,
    "start_time": "2021-06-12T17:19:56.380Z"
   },
   {
    "duration": 4302,
    "start_time": "2021-06-12T17:23:41.391Z"
   },
   {
    "duration": 22,
    "start_time": "2021-06-12T17:23:51.406Z"
   },
   {
    "duration": 37,
    "start_time": "2021-06-12T17:25:42.628Z"
   },
   {
    "duration": 28,
    "start_time": "2021-06-12T17:25:43.285Z"
   },
   {
    "duration": 38,
    "start_time": "2021-06-12T17:25:46.104Z"
   },
   {
    "duration": 35,
    "start_time": "2021-06-12T17:25:48.867Z"
   },
   {
    "duration": 225,
    "start_time": "2021-06-12T17:25:55.820Z"
   },
   {
    "duration": 323,
    "start_time": "2021-06-12T17:26:17.744Z"
   },
   {
    "duration": 1806,
    "start_time": "2021-06-12T17:26:32.828Z"
   },
   {
    "duration": 337,
    "start_time": "2021-06-12T17:26:41.381Z"
   },
   {
    "duration": 1720,
    "start_time": "2021-06-12T17:27:19.937Z"
   },
   {
    "duration": 743,
    "start_time": "2021-06-12T17:27:21.660Z"
   },
   {
    "duration": 25,
    "start_time": "2021-06-12T17:27:22.406Z"
   },
   {
    "duration": 60,
    "start_time": "2021-06-12T17:27:22.435Z"
   },
   {
    "duration": 321,
    "start_time": "2021-06-12T17:27:22.498Z"
   },
   {
    "duration": 5,
    "start_time": "2021-06-12T17:27:22.821Z"
   },
   {
    "duration": 227006,
    "start_time": "2021-06-12T17:27:22.829Z"
   },
   {
    "duration": 7,
    "start_time": "2021-06-12T17:31:09.839Z"
   },
   {
    "duration": 38,
    "start_time": "2021-06-12T17:31:09.848Z"
   },
   {
    "duration": 14,
    "start_time": "2021-06-12T17:31:09.888Z"
   },
   {
    "duration": 9,
    "start_time": "2021-06-12T17:31:09.904Z"
   },
   {
    "duration": 218,
    "start_time": "2021-06-12T17:31:09.916Z"
   },
   {
    "duration": 2746,
    "start_time": "2021-06-12T17:31:10.136Z"
   },
   {
    "duration": 4,
    "start_time": "2021-06-12T17:31:12.884Z"
   },
   {
    "duration": 2099,
    "start_time": "2021-06-12T17:31:12.891Z"
   },
   {
    "duration": 18431,
    "start_time": "2021-06-12T17:31:14.993Z"
   },
   {
    "duration": 47790,
    "start_time": "2021-06-12T17:31:33.426Z"
   },
   {
    "duration": 9,
    "start_time": "2021-06-12T17:32:21.219Z"
   },
   {
    "duration": 983,
    "start_time": "2021-06-12T17:32:21.232Z"
   },
   {
    "duration": 3330,
    "start_time": "2021-06-12T17:32:22.218Z"
   },
   {
    "duration": 3626,
    "start_time": "2021-06-12T17:32:36.498Z"
   },
   {
    "duration": 1728,
    "start_time": "2021-06-12T17:33:14.528Z"
   },
   {
    "duration": 766,
    "start_time": "2021-06-12T17:33:16.259Z"
   },
   {
    "duration": 30,
    "start_time": "2021-06-12T17:33:17.029Z"
   },
   {
    "duration": 110,
    "start_time": "2021-06-12T17:33:17.063Z"
   },
   {
    "duration": 301,
    "start_time": "2021-06-12T17:33:17.184Z"
   },
   {
    "duration": 6,
    "start_time": "2021-06-12T17:33:17.489Z"
   },
   {
    "duration": 638664,
    "start_time": "2021-06-12T17:33:17.497Z"
   },
   {
    "duration": 23,
    "start_time": "2021-06-12T17:43:56.164Z"
   },
   {
    "duration": 9,
    "start_time": "2021-06-12T17:43:56.190Z"
   },
   {
    "duration": 16,
    "start_time": "2021-06-12T17:43:56.202Z"
   },
   {
    "duration": 11,
    "start_time": "2021-06-12T17:43:56.220Z"
   },
   {
    "duration": 235,
    "start_time": "2021-06-12T17:43:56.233Z"
   },
   {
    "duration": 7042,
    "start_time": "2021-06-12T17:43:56.470Z"
   },
   {
    "duration": 4,
    "start_time": "2021-06-12T17:44:03.515Z"
   },
   {
    "duration": 8185,
    "start_time": "2021-06-12T17:44:03.521Z"
   },
   {
    "duration": 63500,
    "start_time": "2021-06-12T17:44:11.709Z"
   },
   {
    "duration": 242887,
    "start_time": "2021-06-12T17:45:15.212Z"
   },
   {
    "duration": 10,
    "start_time": "2021-06-12T17:49:18.102Z"
   },
   {
    "duration": 3437,
    "start_time": "2021-06-12T17:49:18.114Z"
   },
   {
    "duration": 18488,
    "start_time": "2021-06-12T17:49:21.553Z"
   },
   {
    "duration": 1709,
    "start_time": "2021-06-12T17:50:06.378Z"
   },
   {
    "duration": 760,
    "start_time": "2021-06-12T17:50:08.089Z"
   },
   {
    "duration": 3,
    "start_time": "2021-06-12T17:50:08.852Z"
   },
   {
    "duration": 300,
    "start_time": "2021-06-12T17:50:08.857Z"
   },
   {
    "duration": 306,
    "start_time": "2021-06-12T17:50:09.159Z"
   },
   {
    "duration": 5,
    "start_time": "2021-06-12T17:50:09.467Z"
   },
   {
    "duration": 2851355,
    "start_time": "2021-06-12T17:50:09.483Z"
   },
   {
    "duration": 59,
    "start_time": "2021-06-12T18:37:40.841Z"
   },
   {
    "duration": 32,
    "start_time": "2021-06-12T18:37:40.903Z"
   },
   {
    "duration": 60,
    "start_time": "2021-06-12T18:37:40.937Z"
   },
   {
    "duration": 36,
    "start_time": "2021-06-12T18:37:41.000Z"
   },
   {
    "duration": 219,
    "start_time": "2021-06-12T18:37:41.038Z"
   },
   {
    "duration": 299,
    "start_time": "2021-06-12T18:38:17.835Z"
   },
   {
    "duration": 1815,
    "start_time": "2021-06-12T18:38:26.477Z"
   },
   {
    "duration": 747,
    "start_time": "2021-06-12T18:38:28.294Z"
   },
   {
    "duration": 3,
    "start_time": "2021-06-12T18:38:29.045Z"
   },
   {
    "duration": 299,
    "start_time": "2021-06-12T18:38:29.051Z"
   },
   {
    "duration": 302,
    "start_time": "2021-06-12T18:38:29.353Z"
   },
   {
    "duration": 5,
    "start_time": "2021-06-12T18:38:29.658Z"
   },
   {
    "duration": 2839775,
    "start_time": "2021-06-12T18:38:29.665Z"
   },
   {
    "duration": 51,
    "start_time": "2021-06-12T19:25:49.443Z"
   },
   {
    "duration": 25,
    "start_time": "2021-06-12T19:25:49.497Z"
   },
   {
    "duration": 35,
    "start_time": "2021-06-12T19:25:49.525Z"
   },
   {
    "duration": 52,
    "start_time": "2021-06-12T19:25:49.562Z"
   },
   {
    "duration": 222,
    "start_time": "2021-06-12T19:25:49.616Z"
   },
   {
    "duration": 1857,
    "start_time": "2021-06-12T19:26:34.087Z"
   },
   {
    "duration": 764,
    "start_time": "2021-06-12T19:26:35.947Z"
   },
   {
    "duration": 34,
    "start_time": "2021-06-12T19:26:36.714Z"
   },
   {
    "duration": 184,
    "start_time": "2021-06-12T19:26:36.752Z"
   },
   {
    "duration": 310,
    "start_time": "2021-06-12T19:26:36.938Z"
   },
   {
    "duration": 5,
    "start_time": "2021-06-12T19:26:37.250Z"
   },
   {
    "duration": 1381498,
    "start_time": "2021-06-12T19:26:37.257Z"
   },
   {
    "duration": 32,
    "start_time": "2021-06-12T19:49:38.757Z"
   },
   {
    "duration": 16,
    "start_time": "2021-06-12T19:49:38.793Z"
   },
   {
    "duration": 24,
    "start_time": "2021-06-12T19:49:38.811Z"
   },
   {
    "duration": 46,
    "start_time": "2021-06-12T19:49:38.837Z"
   },
   {
    "duration": 214,
    "start_time": "2021-06-12T19:49:38.886Z"
   },
   {
    "duration": 2416,
    "start_time": "2021-06-12T19:50:15.764Z"
   },
   {
    "duration": 765,
    "start_time": "2021-06-12T19:50:19.233Z"
   },
   {
    "duration": 35,
    "start_time": "2021-06-12T19:50:20.001Z"
   },
   {
    "duration": 119,
    "start_time": "2021-06-12T19:50:20.840Z"
   },
   {
    "duration": 302,
    "start_time": "2021-06-12T19:50:21.548Z"
   },
   {
    "duration": 5,
    "start_time": "2021-06-12T19:50:23.417Z"
   },
   {
    "duration": 796881,
    "start_time": "2021-06-12T19:50:23.669Z"
   },
   {
    "duration": 14,
    "start_time": "2021-06-12T20:04:01.313Z"
   },
   {
    "duration": 13,
    "start_time": "2021-06-12T20:04:02.271Z"
   },
   {
    "duration": 19,
    "start_time": "2021-06-12T20:04:03.941Z"
   },
   {
    "duration": 15,
    "start_time": "2021-06-12T20:04:09.293Z"
   },
   {
    "duration": 214,
    "start_time": "2021-06-12T20:04:11.191Z"
   },
   {
    "duration": 7724,
    "start_time": "2021-06-12T20:04:13.599Z"
   },
   {
    "duration": 5,
    "start_time": "2021-06-12T20:04:22.647Z"
   },
   {
    "duration": 10222,
    "start_time": "2021-06-12T20:04:24.980Z"
   },
   {
    "duration": 83995,
    "start_time": "2021-06-12T20:04:35.205Z"
   },
   {
    "duration": 345111,
    "start_time": "2021-06-12T20:05:59.203Z"
   },
   {
    "duration": 12,
    "start_time": "2021-06-12T20:11:44.316Z"
   },
   {
    "duration": 4405,
    "start_time": "2021-06-12T20:11:44.330Z"
   },
   {
    "duration": 26397,
    "start_time": "2021-06-12T20:11:48.738Z"
   },
   {
    "duration": 7,
    "start_time": "2021-06-12T20:13:00.320Z"
   },
   {
    "duration": 7,
    "start_time": "2021-06-12T20:13:12.290Z"
   },
   {
    "duration": 688,
    "start_time": "2021-06-12T20:13:13.816Z"
   },
   {
    "duration": 31,
    "start_time": "2021-06-12T20:13:19.537Z"
   },
   {
    "duration": 139,
    "start_time": "2021-06-12T20:13:26.827Z"
   },
   {
    "duration": 194,
    "start_time": "2021-06-12T20:13:28.809Z"
   },
   {
    "duration": 4,
    "start_time": "2021-06-12T20:13:31.790Z"
   },
   {
    "duration": 1155522,
    "start_time": "2021-06-12T20:13:34.164Z"
   },
   {
    "duration": 21,
    "start_time": "2021-06-12T20:33:10.669Z"
   },
   {
    "duration": 18,
    "start_time": "2021-06-12T20:33:11.332Z"
   },
   {
    "duration": 28,
    "start_time": "2021-06-12T20:33:12.547Z"
   },
   {
    "duration": 18,
    "start_time": "2021-06-12T20:33:13.765Z"
   },
   {
    "duration": 201,
    "start_time": "2021-06-12T20:33:14.920Z"
   },
   {
    "duration": 306,
    "start_time": "2021-06-12T20:33:31.961Z"
   },
   {
    "duration": 2432,
    "start_time": "2021-06-16T19:59:14.734Z"
   },
   {
    "duration": 2896,
    "start_time": "2021-06-16T19:59:17.170Z"
   },
   {
    "duration": -148,
    "start_time": "2021-06-16T19:59:20.217Z"
   },
   {
    "duration": -150,
    "start_time": "2021-06-16T19:59:20.221Z"
   },
   {
    "duration": -151,
    "start_time": "2021-06-16T19:59:20.224Z"
   },
   {
    "duration": -154,
    "start_time": "2021-06-16T19:59:20.229Z"
   },
   {
    "duration": -157,
    "start_time": "2021-06-16T19:59:20.233Z"
   },
   {
    "duration": -174,
    "start_time": "2021-06-16T19:59:20.252Z"
   },
   {
    "duration": -178,
    "start_time": "2021-06-16T19:59:20.257Z"
   },
   {
    "duration": -181,
    "start_time": "2021-06-16T19:59:20.263Z"
   },
   {
    "duration": -184,
    "start_time": "2021-06-16T19:59:20.267Z"
   },
   {
    "duration": -187,
    "start_time": "2021-06-16T19:59:20.272Z"
   },
   {
    "duration": -190,
    "start_time": "2021-06-16T19:59:20.276Z"
   },
   {
    "duration": -193,
    "start_time": "2021-06-16T19:59:20.281Z"
   },
   {
    "duration": 16,
    "start_time": "2021-06-16T20:15:23.750Z"
   },
   {
    "duration": 797,
    "start_time": "2021-06-16T20:15:23.768Z"
   },
   {
    "duration": 3,
    "start_time": "2021-06-16T20:15:24.568Z"
   },
   {
    "duration": 313,
    "start_time": "2021-06-16T20:15:24.574Z"
   },
   {
    "duration": 426,
    "start_time": "2021-06-16T20:15:24.889Z"
   },
   {
    "duration": 6,
    "start_time": "2021-06-16T20:15:25.320Z"
   },
   {
    "duration": 3363216,
    "start_time": "2021-06-16T20:15:25.328Z"
   },
   {
    "duration": 30,
    "start_time": "2021-06-16T21:11:28.547Z"
   },
   {
    "duration": 54,
    "start_time": "2021-06-16T21:11:28.579Z"
   },
   {
    "duration": 22,
    "start_time": "2021-06-16T21:11:28.635Z"
   },
   {
    "duration": 234,
    "start_time": "2021-06-16T21:11:28.660Z"
   },
   {
    "duration": 2621,
    "start_time": "2021-06-17T05:39:31.816Z"
   },
   {
    "duration": 767,
    "start_time": "2021-06-17T05:39:34.441Z"
   },
   {
    "duration": 4,
    "start_time": "2021-06-17T05:39:35.212Z"
   },
   {
    "duration": 308,
    "start_time": "2021-06-17T05:39:35.219Z"
   },
   {
    "duration": 329,
    "start_time": "2021-06-17T05:39:35.531Z"
   },
   {
    "duration": 6,
    "start_time": "2021-06-17T05:39:35.863Z"
   },
   {
    "duration": 20,
    "start_time": "2021-06-17T05:39:57.945Z"
   },
   {
    "duration": 475,
    "start_time": "2021-06-17T05:40:06.374Z"
   },
   {
    "duration": 315,
    "start_time": "2021-06-17T05:40:06.979Z"
   },
   {
    "duration": 298,
    "start_time": "2021-06-17T05:40:14.587Z"
   },
   {
    "duration": 5,
    "start_time": "2021-06-17T05:40:15.213Z"
   },
   {
    "duration": 306,
    "start_time": "2021-06-17T05:40:30.888Z"
   },
   {
    "duration": 2197,
    "start_time": "2021-06-17T05:40:37.484Z"
   },
   {
    "duration": 99,
    "start_time": "2021-06-17T05:41:03.504Z"
   },
   {
    "duration": 23,
    "start_time": "2021-06-17T05:41:21.603Z"
   },
   {
    "duration": 16,
    "start_time": "2021-06-17T05:41:37.323Z"
   },
   {
    "duration": 794,
    "start_time": "2021-06-17T05:41:37.342Z"
   },
   {
    "duration": 2,
    "start_time": "2021-06-17T05:41:38.139Z"
   },
   {
    "duration": 290,
    "start_time": "2021-06-17T05:41:38.144Z"
   },
   {
    "duration": 208,
    "start_time": "2021-06-17T05:41:38.436Z"
   },
   {
    "duration": 5,
    "start_time": "2021-06-17T05:41:38.646Z"
   },
   {
    "duration": 12359,
    "start_time": "2021-06-17T05:41:38.653Z"
   },
   {
    "duration": -206,
    "start_time": "2021-06-17T05:41:51.221Z"
   },
   {
    "duration": -223,
    "start_time": "2021-06-17T05:41:51.240Z"
   },
   {
    "duration": 5,
    "start_time": "2021-06-17T05:41:54.662Z"
   },
   {
    "duration": 21,
    "start_time": "2021-06-17T05:41:57.132Z"
   },
   {
    "duration": 5,
    "start_time": "2021-06-17T05:42:00.844Z"
   },
   {
    "duration": 9,
    "start_time": "2021-06-17T05:42:06.759Z"
   },
   {
    "duration": 870,
    "start_time": "2021-06-17T05:42:06.771Z"
   },
   {
    "duration": 3,
    "start_time": "2021-06-17T05:42:07.644Z"
   },
   {
    "duration": 322,
    "start_time": "2021-06-17T05:42:07.650Z"
   },
   {
    "duration": 229,
    "start_time": "2021-06-17T05:42:07.974Z"
   },
   {
    "duration": 5,
    "start_time": "2021-06-17T05:42:08.205Z"
   },
   {
    "duration": 15,
    "start_time": "2021-06-17T05:42:13.434Z"
   },
   {
    "duration": 24,
    "start_time": "2021-06-17T05:42:15.021Z"
   }
  ],
  "kernelspec": {
   "display_name": "Python 3",
   "language": "python",
   "name": "python3"
  },
  "language_info": {
   "codemirror_mode": {
    "name": "ipython",
    "version": 3
   },
   "file_extension": ".py",
   "mimetype": "text/x-python",
   "name": "python",
   "nbconvert_exporter": "python",
   "pygments_lexer": "ipython3",
   "version": "3.8.8"
  },
  "toc": {
   "base_numbering": 1,
   "nav_menu": {},
   "number_sections": true,
   "sideBar": true,
   "skip_h1_title": true,
   "title_cell": "Содержание",
   "title_sidebar": "Contents",
   "toc_cell": true,
   "toc_position": {
    "height": "calc(100% - 180px)",
    "left": "10px",
    "top": "150px",
    "width": "302.391px"
   },
   "toc_section_display": true,
   "toc_window_display": false
  }
 },
 "nbformat": 4,
 "nbformat_minor": 2
}
